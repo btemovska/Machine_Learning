{
 "cells": [
  {
   "cell_type": "markdown",
   "id": "e8b74c35",
   "metadata": {},
   "source": [
    "#### Data comes from Kaggle https://www.kaggle.com/datasets/rabieelkharoua/students-performance-dataset\n",
    "\n",
    "- StudentID - A unique identifier assigned to each student (1001 to 3392).\n",
    "- Age - The age of the students ranges from 15 to 18 years.\n",
    "- Gender - Gender of the students, where 0 represents Male and 1 represents Female.\n",
    "- Ethnicity - The ethnicity of the students: 0: Caucasian, 1: African American, 2: Asian, 3: Other\n",
    "- ParentalEducation - 0: None, 1: High School, 2: Some College, 3: Bachelor's, 4: Higher, \n",
    "- StudyTimeWeekly - Weekly study time in hours, ranging from 0 to 20.\n",
    "- Absences - Number of absences during the school year, ranging from 0 to 30.\n",
    "- Tutoring - Tutoring status, where 0 indicates No and 1 indicates Yes.\n",
    "- ParentalSupport - 0: None, 1: Low, 2: Moderate, 3: High, 4: Very High\n",
    "- Extracurricular - Participation in extracurricular activities, where 0 indicates No and 1 indicates Yes.\n",
    "- Sports - Participation in sports, where 0 indicates No and 1 indicates Yes.\n",
    "- Music - Participation in music activities, where 0 indicates No and 1 indicates Yes.\n",
    "- Volunteering - Participation in volunteering, where 0 indicates No and 1 indicates Yes.\n",
    "- GPA - Grade Point Average on a scale from 2.0 to 4.0, influenced by study habits, parental involvement, and extracurricular activities.\n",
    "- Target Variable Grade Class - 0: 'A' (GPA >= 3.5), 1: 'B' (3.0 <= GPA < 3.5), 2: 'C' (2.5 <= GPA < 3.0), 3: 'D' (2.0 <= GPA < 2.5), 4: 'F' (GPA < 2.0)"
   ]
  },
  {
   "cell_type": "markdown",
   "id": "276eb2b6",
   "metadata": {},
   "source": [
    "#### Import library"
   ]
  },
  {
   "cell_type": "code",
   "execution_count": 1,
   "id": "af65a49b",
   "metadata": {},
   "outputs": [],
   "source": [
    "import numpy as np\n",
    "import pandas as pd\n",
    "import seaborn as sns\n",
    "import matplotlib.pyplot as plt"
   ]
  },
  {
   "cell_type": "code",
   "execution_count": 25,
   "id": "8bc361ab",
   "metadata": {},
   "outputs": [
    {
     "data": {
      "text/html": [
       "<style>.container { width:95% !important; }</style>"
      ],
      "text/plain": [
       "<IPython.core.display.HTML object>"
      ]
     },
     "metadata": {},
     "output_type": "display_data"
    }
   ],
   "source": [
    "from IPython.core.display import display, HTML\n",
    "\n",
    "display(HTML(\"<style>.container { width:95% !important; }</style>\"))"
   ]
  },
  {
   "cell_type": "markdown",
   "id": "d743a4ee",
   "metadata": {},
   "source": [
    "#### Import dataset"
   ]
  },
  {
   "cell_type": "code",
   "execution_count": 39,
   "id": "ffaa8257",
   "metadata": {},
   "outputs": [
    {
     "data": {
      "text/html": [
       "<div>\n",
       "<style scoped>\n",
       "    .dataframe tbody tr th:only-of-type {\n",
       "        vertical-align: middle;\n",
       "    }\n",
       "\n",
       "    .dataframe tbody tr th {\n",
       "        vertical-align: top;\n",
       "    }\n",
       "\n",
       "    .dataframe thead th {\n",
       "        text-align: right;\n",
       "    }\n",
       "</style>\n",
       "<table border=\"1\" class=\"dataframe\">\n",
       "  <thead>\n",
       "    <tr style=\"text-align: right;\">\n",
       "      <th></th>\n",
       "      <th>Age</th>\n",
       "      <th>Gender</th>\n",
       "      <th>Ethnicity</th>\n",
       "      <th>ParentEduc</th>\n",
       "      <th>StudyTimeWk</th>\n",
       "      <th>Absences</th>\n",
       "      <th>Tutoring</th>\n",
       "      <th>ParentalSupport</th>\n",
       "      <th>Extracurr</th>\n",
       "      <th>Sports</th>\n",
       "      <th>Music</th>\n",
       "      <th>Volunt</th>\n",
       "      <th>GPA</th>\n",
       "      <th>Grade</th>\n",
       "    </tr>\n",
       "  </thead>\n",
       "  <tbody>\n",
       "    <tr>\n",
       "      <th>0</th>\n",
       "      <td>17</td>\n",
       "      <td>1</td>\n",
       "      <td>0</td>\n",
       "      <td>2</td>\n",
       "      <td>19.833723</td>\n",
       "      <td>7</td>\n",
       "      <td>1</td>\n",
       "      <td>2</td>\n",
       "      <td>0</td>\n",
       "      <td>0</td>\n",
       "      <td>1</td>\n",
       "      <td>0</td>\n",
       "      <td>2.929196</td>\n",
       "      <td>2</td>\n",
       "    </tr>\n",
       "    <tr>\n",
       "      <th>1</th>\n",
       "      <td>18</td>\n",
       "      <td>0</td>\n",
       "      <td>0</td>\n",
       "      <td>1</td>\n",
       "      <td>15.408756</td>\n",
       "      <td>0</td>\n",
       "      <td>0</td>\n",
       "      <td>1</td>\n",
       "      <td>0</td>\n",
       "      <td>0</td>\n",
       "      <td>0</td>\n",
       "      <td>0</td>\n",
       "      <td>3.042915</td>\n",
       "      <td>1</td>\n",
       "    </tr>\n",
       "    <tr>\n",
       "      <th>2</th>\n",
       "      <td>15</td>\n",
       "      <td>0</td>\n",
       "      <td>2</td>\n",
       "      <td>3</td>\n",
       "      <td>4.210570</td>\n",
       "      <td>26</td>\n",
       "      <td>0</td>\n",
       "      <td>2</td>\n",
       "      <td>0</td>\n",
       "      <td>0</td>\n",
       "      <td>0</td>\n",
       "      <td>0</td>\n",
       "      <td>0.112602</td>\n",
       "      <td>4</td>\n",
       "    </tr>\n",
       "    <tr>\n",
       "      <th>3</th>\n",
       "      <td>17</td>\n",
       "      <td>1</td>\n",
       "      <td>0</td>\n",
       "      <td>3</td>\n",
       "      <td>10.028829</td>\n",
       "      <td>14</td>\n",
       "      <td>0</td>\n",
       "      <td>3</td>\n",
       "      <td>1</td>\n",
       "      <td>0</td>\n",
       "      <td>0</td>\n",
       "      <td>0</td>\n",
       "      <td>2.054218</td>\n",
       "      <td>3</td>\n",
       "    </tr>\n",
       "    <tr>\n",
       "      <th>4</th>\n",
       "      <td>17</td>\n",
       "      <td>1</td>\n",
       "      <td>0</td>\n",
       "      <td>2</td>\n",
       "      <td>4.672495</td>\n",
       "      <td>17</td>\n",
       "      <td>1</td>\n",
       "      <td>3</td>\n",
       "      <td>0</td>\n",
       "      <td>0</td>\n",
       "      <td>0</td>\n",
       "      <td>0</td>\n",
       "      <td>1.288061</td>\n",
       "      <td>4</td>\n",
       "    </tr>\n",
       "    <tr>\n",
       "      <th>...</th>\n",
       "      <td>...</td>\n",
       "      <td>...</td>\n",
       "      <td>...</td>\n",
       "      <td>...</td>\n",
       "      <td>...</td>\n",
       "      <td>...</td>\n",
       "      <td>...</td>\n",
       "      <td>...</td>\n",
       "      <td>...</td>\n",
       "      <td>...</td>\n",
       "      <td>...</td>\n",
       "      <td>...</td>\n",
       "      <td>...</td>\n",
       "      <td>...</td>\n",
       "    </tr>\n",
       "    <tr>\n",
       "      <th>2387</th>\n",
       "      <td>18</td>\n",
       "      <td>1</td>\n",
       "      <td>0</td>\n",
       "      <td>3</td>\n",
       "      <td>10.680555</td>\n",
       "      <td>2</td>\n",
       "      <td>0</td>\n",
       "      <td>4</td>\n",
       "      <td>1</td>\n",
       "      <td>0</td>\n",
       "      <td>0</td>\n",
       "      <td>0</td>\n",
       "      <td>3.455509</td>\n",
       "      <td>0</td>\n",
       "    </tr>\n",
       "    <tr>\n",
       "      <th>2388</th>\n",
       "      <td>17</td>\n",
       "      <td>0</td>\n",
       "      <td>0</td>\n",
       "      <td>1</td>\n",
       "      <td>7.583217</td>\n",
       "      <td>4</td>\n",
       "      <td>1</td>\n",
       "      <td>4</td>\n",
       "      <td>0</td>\n",
       "      <td>1</td>\n",
       "      <td>0</td>\n",
       "      <td>0</td>\n",
       "      <td>3.279150</td>\n",
       "      <td>4</td>\n",
       "    </tr>\n",
       "    <tr>\n",
       "      <th>2389</th>\n",
       "      <td>16</td>\n",
       "      <td>1</td>\n",
       "      <td>0</td>\n",
       "      <td>2</td>\n",
       "      <td>6.805500</td>\n",
       "      <td>20</td>\n",
       "      <td>0</td>\n",
       "      <td>2</td>\n",
       "      <td>0</td>\n",
       "      <td>0</td>\n",
       "      <td>0</td>\n",
       "      <td>1</td>\n",
       "      <td>1.142333</td>\n",
       "      <td>2</td>\n",
       "    </tr>\n",
       "    <tr>\n",
       "      <th>2390</th>\n",
       "      <td>16</td>\n",
       "      <td>1</td>\n",
       "      <td>1</td>\n",
       "      <td>0</td>\n",
       "      <td>12.416653</td>\n",
       "      <td>17</td>\n",
       "      <td>0</td>\n",
       "      <td>2</td>\n",
       "      <td>0</td>\n",
       "      <td>1</td>\n",
       "      <td>1</td>\n",
       "      <td>0</td>\n",
       "      <td>1.803297</td>\n",
       "      <td>1</td>\n",
       "    </tr>\n",
       "    <tr>\n",
       "      <th>2391</th>\n",
       "      <td>16</td>\n",
       "      <td>1</td>\n",
       "      <td>0</td>\n",
       "      <td>2</td>\n",
       "      <td>17.819907</td>\n",
       "      <td>13</td>\n",
       "      <td>0</td>\n",
       "      <td>2</td>\n",
       "      <td>0</td>\n",
       "      <td>0</td>\n",
       "      <td>0</td>\n",
       "      <td>1</td>\n",
       "      <td>2.140014</td>\n",
       "      <td>1</td>\n",
       "    </tr>\n",
       "  </tbody>\n",
       "</table>\n",
       "<p>2392 rows × 14 columns</p>\n",
       "</div>"
      ],
      "text/plain": [
       "      Age  Gender  Ethnicity  ParentEduc  StudyTimeWk  Absences  Tutoring  \\\n",
       "0      17       1          0           2    19.833723         7         1   \n",
       "1      18       0          0           1    15.408756         0         0   \n",
       "2      15       0          2           3     4.210570        26         0   \n",
       "3      17       1          0           3    10.028829        14         0   \n",
       "4      17       1          0           2     4.672495        17         1   \n",
       "...   ...     ...        ...         ...          ...       ...       ...   \n",
       "2387   18       1          0           3    10.680555         2         0   \n",
       "2388   17       0          0           1     7.583217         4         1   \n",
       "2389   16       1          0           2     6.805500        20         0   \n",
       "2390   16       1          1           0    12.416653        17         0   \n",
       "2391   16       1          0           2    17.819907        13         0   \n",
       "\n",
       "      ParentalSupport  Extracurr  Sports  Music  Volunt       GPA  Grade  \n",
       "0                   2          0       0      1       0  2.929196      2  \n",
       "1                   1          0       0      0       0  3.042915      1  \n",
       "2                   2          0       0      0       0  0.112602      4  \n",
       "3                   3          1       0      0       0  2.054218      3  \n",
       "4                   3          0       0      0       0  1.288061      4  \n",
       "...               ...        ...     ...    ...     ...       ...    ...  \n",
       "2387                4          1       0      0       0  3.455509      0  \n",
       "2388                4          0       1      0       0  3.279150      4  \n",
       "2389                2          0       0      0       1  1.142333      2  \n",
       "2390                2          0       1      1       0  1.803297      1  \n",
       "2391                2          0       0      0       1  2.140014      1  \n",
       "\n",
       "[2392 rows x 14 columns]"
      ]
     },
     "execution_count": 39,
     "metadata": {},
     "output_type": "execute_result"
    }
   ],
   "source": [
    "df = pd.read_csv('Student_performance_data _.csv')\n",
    "df = df.drop(columns=['StudentID'])\n",
    "df['GradeClass'] = df['GradeClass'].astype(int)\n",
    "df.rename(columns = {'ParentalEducation': 'ParentEduc', 'Volunteering': 'Volunt', 'StudyTimeWeekly': \n",
    "                     'StudyTimeWk', 'GradeClass': 'Grade', 'Extracurricular': 'Extracurr'}, inplace=True)\n",
    "df"
   ]
  },
  {
   "cell_type": "markdown",
   "id": "6a8c5641",
   "metadata": {},
   "source": [
    "#### Separate X features & y labels"
   ]
  },
  {
   "cell_type": "code",
   "execution_count": 42,
   "id": "b794c7b1",
   "metadata": {},
   "outputs": [],
   "source": [
    "X = df.iloc[:, :-1].values\n",
    "y = df.iloc[:, -1].values"
   ]
  },
  {
   "cell_type": "markdown",
   "id": "d093259e",
   "metadata": {},
   "source": [
    "#### SPLIT into Training & Test set"
   ]
  },
  {
   "cell_type": "code",
   "execution_count": 46,
   "id": "09b1576a",
   "metadata": {},
   "outputs": [],
   "source": [
    "from sklearn.model_selection import train_test_split\n",
    "X_train, X_test, y_train, y_test = train_test_split(X, y, test_size = 0.2, random_state = 0)"
   ]
  },
  {
   "cell_type": "markdown",
   "id": "cefa24eb",
   "metadata": {},
   "source": [
    "#### Feature Scaling (Standard Scaler)"
   ]
  },
  {
   "cell_type": "code",
   "execution_count": 47,
   "id": "6f92cb47",
   "metadata": {},
   "outputs": [],
   "source": [
    "from sklearn.preprocessing import StandardScaler\n",
    "scaler = StandardScaler()\n",
    "\n",
    "scaled_X_train = scaler.fit_transform(X_train)\n",
    "scaled_X_test = scaler.transform(X_test)\n",
    "\n",
    "# Why we do Scaler? Standardizing ensures that all features contribute equally to the distance metric used in the logistic regression model. \n",
    "# Without standardization, features with larger scales might dominate the learning process, potentially leading to biased results."
   ]
  },
  {
   "cell_type": "markdown",
   "id": "5213fb7e",
   "metadata": {},
   "source": [
    "#### TRAIN the model"
   ]
  },
  {
   "cell_type": "code",
   "execution_count": 52,
   "id": "e7f28b6d",
   "metadata": {},
   "outputs": [
    {
     "data": {
      "text/plain": [
       "LogisticRegression()"
      ]
     },
     "execution_count": 52,
     "metadata": {},
     "output_type": "execute_result"
    }
   ],
   "source": [
    "from sklearn.linear_model import LogisticRegression\n",
    "model = LogisticRegression()\n",
    "model.fit(scaled_X_train, y_train)"
   ]
  },
  {
   "cell_type": "markdown",
   "id": "1219c345",
   "metadata": {},
   "source": [
    "#### TEST the model"
   ]
  },
  {
   "cell_type": "code",
   "execution_count": 53,
   "id": "5e1fcd4d",
   "metadata": {},
   "outputs": [
    {
     "data": {
      "text/html": [
       "<div>\n",
       "<style scoped>\n",
       "    .dataframe tbody tr th:only-of-type {\n",
       "        vertical-align: middle;\n",
       "    }\n",
       "\n",
       "    .dataframe tbody tr th {\n",
       "        vertical-align: top;\n",
       "    }\n",
       "\n",
       "    .dataframe thead th {\n",
       "        text-align: right;\n",
       "    }\n",
       "</style>\n",
       "<table border=\"1\" class=\"dataframe\">\n",
       "  <thead>\n",
       "    <tr style=\"text-align: right;\">\n",
       "      <th></th>\n",
       "      <th>y_test</th>\n",
       "      <th>y_pred</th>\n",
       "    </tr>\n",
       "  </thead>\n",
       "  <tbody>\n",
       "    <tr>\n",
       "      <th>172</th>\n",
       "      <td>0</td>\n",
       "      <td>3</td>\n",
       "    </tr>\n",
       "    <tr>\n",
       "      <th>344</th>\n",
       "      <td>3</td>\n",
       "      <td>4</td>\n",
       "    </tr>\n",
       "    <tr>\n",
       "      <th>252</th>\n",
       "      <td>2</td>\n",
       "      <td>2</td>\n",
       "    </tr>\n",
       "    <tr>\n",
       "      <th>107</th>\n",
       "      <td>4</td>\n",
       "      <td>4</td>\n",
       "    </tr>\n",
       "    <tr>\n",
       "      <th>109</th>\n",
       "      <td>3</td>\n",
       "      <td>2</td>\n",
       "    </tr>\n",
       "  </tbody>\n",
       "</table>\n",
       "</div>"
      ],
      "text/plain": [
       "     y_test  y_pred\n",
       "172       0       3\n",
       "344       3       4\n",
       "252       2       2\n",
       "107       4       4\n",
       "109       3       2"
      ]
     },
     "execution_count": 53,
     "metadata": {},
     "output_type": "execute_result"
    }
   ],
   "source": [
    "y_pred = model.predict(scaled_X_test)\n",
    "\n",
    "new_df = pd.DataFrame({'y_test': y_test, 'y_pred': y_pred})\n",
    "new_df.sample(5)"
   ]
  },
  {
   "cell_type": "markdown",
   "id": "5935c032",
   "metadata": {},
   "source": [
    "#### EVAULATE the model"
   ]
  },
  {
   "cell_type": "code",
   "execution_count": 102,
   "id": "6cca5dc0",
   "metadata": {},
   "outputs": [
    {
     "name": "stdout",
     "output_type": "stream",
     "text": [
      "Class labels: [0 1 2 3 4]\n",
      "Coeficients\n"
     ]
    },
    {
     "data": {
      "text/html": [
       "<div>\n",
       "<style scoped>\n",
       "    .dataframe tbody tr th:only-of-type {\n",
       "        vertical-align: middle;\n",
       "    }\n",
       "\n",
       "    .dataframe tbody tr th {\n",
       "        vertical-align: top;\n",
       "    }\n",
       "\n",
       "    .dataframe thead th {\n",
       "        text-align: right;\n",
       "    }\n",
       "</style>\n",
       "<table border=\"1\" class=\"dataframe\">\n",
       "  <thead>\n",
       "    <tr style=\"text-align: right;\">\n",
       "      <th></th>\n",
       "      <th>Age</th>\n",
       "      <th>Gender</th>\n",
       "      <th>Ethnicity</th>\n",
       "      <th>ParentEduc</th>\n",
       "      <th>StudyTimeWk</th>\n",
       "      <th>Absences</th>\n",
       "      <th>Tutoring</th>\n",
       "      <th>ParentalSupport</th>\n",
       "      <th>Extracurr</th>\n",
       "      <th>Sports</th>\n",
       "      <th>Music</th>\n",
       "      <th>Volunt</th>\n",
       "      <th>GPA</th>\n",
       "    </tr>\n",
       "  </thead>\n",
       "  <tbody>\n",
       "    <tr>\n",
       "      <th>0</th>\n",
       "      <td>7.842092e-03</td>\n",
       "      <td>-8.022386e-02</td>\n",
       "      <td>5.986634e-02</td>\n",
       "      <td>7.928787e-03</td>\n",
       "      <td>3.373608e-02</td>\n",
       "      <td>3.221259e-01</td>\n",
       "      <td>1.248043e-01</td>\n",
       "      <td>2.325169e-01</td>\n",
       "      <td>1.223852e-01</td>\n",
       "      <td>-8.977149e-03</td>\n",
       "      <td>-1.213772e-01</td>\n",
       "      <td>-1.394881e-01</td>\n",
       "      <td>2.516428e+00</td>\n",
       "    </tr>\n",
       "    <tr>\n",
       "      <th>1</th>\n",
       "      <td>4.618179e-02</td>\n",
       "      <td>5.453728e-02</td>\n",
       "      <td>-5.668721e-02</td>\n",
       "      <td>-5.388562e-02</td>\n",
       "      <td>9.072045e-02</td>\n",
       "      <td>-1.984614e-01</td>\n",
       "      <td>8.262637e-02</td>\n",
       "      <td>-2.649511e-02</td>\n",
       "      <td>-2.630227e-02</td>\n",
       "      <td>1.982969e-02</td>\n",
       "      <td>4.327002e-02</td>\n",
       "      <td>2.304863e-02</td>\n",
       "      <td>1.595655e+00</td>\n",
       "    </tr>\n",
       "    <tr>\n",
       "      <th>2</th>\n",
       "      <td>5.491968e-02</td>\n",
       "      <td>1.141535e-02</td>\n",
       "      <td>-2.558420e-03</td>\n",
       "      <td>-8.453075e-02</td>\n",
       "      <td>-4.209001e-02</td>\n",
       "      <td>-3.621801e-01</td>\n",
       "      <td>-6.336432e-02</td>\n",
       "      <td>-8.123363e-02</td>\n",
       "      <td>1.881778e-02</td>\n",
       "      <td>-9.070792e-02</td>\n",
       "      <td>-3.152302e-02</td>\n",
       "      <td>-8.906133e-03</td>\n",
       "      <td>4.122608e-01</td>\n",
       "    </tr>\n",
       "    <tr>\n",
       "      <th>3</th>\n",
       "      <td>-8.957421e-03</td>\n",
       "      <td>1.262830e-02</td>\n",
       "      <td>3.888195e-02</td>\n",
       "      <td>2.297321e-02</td>\n",
       "      <td>-4.788278e-02</td>\n",
       "      <td>9.851876e-02</td>\n",
       "      <td>-9.342812e-02</td>\n",
       "      <td>-7.149349e-02</td>\n",
       "      <td>-5.707848e-02</td>\n",
       "      <td>2.278323e-02</td>\n",
       "      <td>1.525488e-02</td>\n",
       "      <td>3.394340e-03</td>\n",
       "      <td>-7.436887e-01</td>\n",
       "    </tr>\n",
       "    <tr>\n",
       "      <th>4</th>\n",
       "      <td>-9.998614e-02</td>\n",
       "      <td>1.642931e-03</td>\n",
       "      <td>-3.950267e-02</td>\n",
       "      <td>1.075144e-01</td>\n",
       "      <td>-3.448374e-02</td>\n",
       "      <td>1.399968e-01</td>\n",
       "      <td>-5.063827e-02</td>\n",
       "      <td>-5.329465e-02</td>\n",
       "      <td>-5.782220e-02</td>\n",
       "      <td>5.707214e-02</td>\n",
       "      <td>9.437536e-02</td>\n",
       "      <td>1.219513e-01</td>\n",
       "      <td>-3.780655e+00</td>\n",
       "    </tr>\n",
       "  </tbody>\n",
       "</table>\n",
       "</div>"
      ],
      "text/plain": [
       "             Age         Gender      Ethnicity     ParentEduc    StudyTimeWk  \\\n",
       "0   7.842092e-03  -8.022386e-02   5.986634e-02   7.928787e-03   3.373608e-02   \n",
       "1   4.618179e-02   5.453728e-02  -5.668721e-02  -5.388562e-02   9.072045e-02   \n",
       "2   5.491968e-02   1.141535e-02  -2.558420e-03  -8.453075e-02  -4.209001e-02   \n",
       "3  -8.957421e-03   1.262830e-02   3.888195e-02   2.297321e-02  -4.788278e-02   \n",
       "4  -9.998614e-02   1.642931e-03  -3.950267e-02   1.075144e-01  -3.448374e-02   \n",
       "\n",
       "        Absences       Tutoring ParentalSupport      Extracurr         Sports  \\\n",
       "0   3.221259e-01   1.248043e-01    2.325169e-01   1.223852e-01  -8.977149e-03   \n",
       "1  -1.984614e-01   8.262637e-02   -2.649511e-02  -2.630227e-02   1.982969e-02   \n",
       "2  -3.621801e-01  -6.336432e-02   -8.123363e-02   1.881778e-02  -9.070792e-02   \n",
       "3   9.851876e-02  -9.342812e-02   -7.149349e-02  -5.707848e-02   2.278323e-02   \n",
       "4   1.399968e-01  -5.063827e-02   -5.329465e-02  -5.782220e-02   5.707214e-02   \n",
       "\n",
       "           Music         Volunt            GPA  \n",
       "0  -1.213772e-01  -1.394881e-01   2.516428e+00  \n",
       "1   4.327002e-02   2.304863e-02   1.595655e+00  \n",
       "2  -3.152302e-02  -8.906133e-03   4.122608e-01  \n",
       "3   1.525488e-02   3.394340e-03  -7.436887e-01  \n",
       "4   9.437536e-02   1.219513e-01  -3.780655e+00  "
      ]
     },
     "execution_count": 102,
     "metadata": {},
     "output_type": "execute_result"
    }
   ],
   "source": [
    "from sklearn.metrics import accuracy_score, confusion_matrix, classification_report, precision_score, recall_score, f1_score\n",
    "\n",
    "print(\"Class labels:\", model.classes_)\n",
    "\n",
    "print('Coeficients')\n",
    "columns = df.drop('Grade', axis=1).columns\n",
    "coef_strings = [[f\"{val:.6e}\" for val in row] for row in model.coef_]\n",
    "coef_df = pd.DataFrame(data=coef_strings, columns=columns, index=model.classes_)\n",
    "\n",
    "coef_df\n",
    "\n",
    "# For the first array:\n",
    "    # as Age increases, the odds increase of getting grade A which is (0 class)\n",
    "    # as Gender increases, the odds decrease of getting grade A\n",
    "    # as Ethnicity increases, the odds increase of getting grade A... and so on\n",
    "# so if we look at the first array of grade 0/A, we can see: Age, Gender, Ethnicity, ParentEducation and Sports are among the strongest predictors"
   ]
  },
  {
   "cell_type": "code",
   "execution_count": 103,
   "id": "374d4282",
   "metadata": {},
   "outputs": [
    {
     "name": "stdout",
     "output_type": "stream",
     "text": [
      "Accuracy Score: 0.778705636743215\n",
      "Precision Score: 0.7381121638229463\n",
      "Recall Score: 0.778705636743215\n",
      "F1 Score: 0.7534189269674992\n"
     ]
    }
   ],
   "source": [
    "print(f'Accuracy Score: {accuracy_score(y_test, y_pred)}')\n",
    "print(f\"Precision Score: {precision_score(y_test, y_pred, average='weighted')}\")\n",
    "print(f\"Recall Score: {recall_score(y_test, y_pred, average='weighted')}\")\n",
    "print(f\"F1 Score: {f1_score(y_test, y_pred, average='weighted')}\")\n",
    "\n",
    "\n",
    "# micro -Useful when you want to treat all classes equally and don’t want any class to be weighted more heavily than others.\n",
    "    #is less common but useful for global performance metrics.\n",
    "# macro - Useful when you want to treat all classes equally and you want the metric to be unaffected by class imbalance.\n",
    "# weighted - Useful when you want to account for the imbalance in the dataset, giving more importance to classes with more instances. \n",
    "    #It often the go-to choice for practical purposes, especially with imbalanced datasets."
   ]
  },
  {
   "cell_type": "code",
   "execution_count": 111,
   "id": "21a14888",
   "metadata": {},
   "outputs": [
    {
     "name": "stderr",
     "output_type": "stream",
     "text": [
      "C:\\Users\\btemo\\anaconda3\\lib\\site-packages\\sklearn\\utils\\deprecation.py:87: FutureWarning: Function plot_confusion_matrix is deprecated; Function `plot_confusion_matrix` is deprecated in 1.0 and will be removed in 1.2. Use one of the class methods: ConfusionMatrixDisplay.from_predictions or ConfusionMatrixDisplay.from_estimator.\n",
      "  warnings.warn(msg, category=FutureWarning)\n"
     ]
    },
    {
     "data": {
      "image/png": "[encoded data removed]",
      "text/plain": [
       "<Figure size 400x400 with 2 Axes>"
      ]
     },
     "metadata": {},
     "output_type": "display_data"
    }
   ],
   "source": [
    "from sklearn.metrics import plot_confusion_matrix\n",
    "\n",
    "plot_confusion_matrix(model, scaled_X_test, y_test).figure_.set_size_inches(4, 4)"
   ]
  },
  {
   "cell_type": "markdown",
   "id": "6dc571f3",
   "metadata": {},
   "source": [
    "#### Visualize the model"
   ]
  },
  {
   "cell_type": "code",
   "execution_count": 119,
   "id": "0b774147",
   "metadata": {},
   "outputs": [
    {
     "data": {
      "image/png": "[encoded data removed]",
      "text/plain": [
       "<Figure size 800x400 with 1 Axes>"
      ]
     },
     "metadata": {},
     "output_type": "display_data"
    }
   ],
   "source": [
    "plt.figure(figsize=(8, 4))\n",
    "\n",
    "sns.kdeplot(y_test, label='Actual', shade=True)\n",
    "sns.kdeplot(y_pred, label='Predicted', shade=True)\n",
    "\n",
    "plt.title('Actual and Predicted values')\n",
    "plt.xlabel('Class')\n",
    "plt.ylabel('Density/Frequency')\n",
    "plt.legend()\n",
    "plt.show()\n",
    "\n",
    "# y_test & y_pred mostly overlap, thus the predictions are closely aligned with the actual values."
   ]
  },
  {
   "cell_type": "code",
   "execution_count": 123,
   "id": "3f5dbfaf",
   "metadata": {},
   "outputs": [
    {
     "data": {
      "image/png": "[encoded data removed]",
      "text/plain": [
       "<Figure size 800x400 with 1 Axes>"
      ]
     },
     "metadata": {},
     "output_type": "display_data"
    }
   ],
   "source": [
    "# Combine y_test and y_pred into a single DataFrame\n",
    "comparison_df = pd.DataFrame({'Actual': y_test, 'Predicted': y_pred})\n",
    "\n",
    "# Plot the counts of each class\n",
    "plt.figure(figsize=(, 4))\n",
    "plot = sns.countplot(y='variable', hue='value', data=pd.melt(comparison_df))\n",
    "\n",
    "# Add counts on top of the bars\n",
    "for p in plot.patches:\n",
    "    plot.annotate(format(p.get_width(), '.0f'), \n",
    "                  (p.get_width(), p.get_y() + p.get_height() / 2.), \n",
    "                  ha = 'center', va = 'center', \n",
    "                  xytext = (9, 0), \n",
    "                  textcoords = 'offset points')\n",
    "\n",
    "plt.legend(title='Value', bbox_to_anchor=(1.05, 1), loc='upper left')\n",
    "plt.grid(True, linestyle='--', alpha=0.7)\n",
    "plt.title('Count of Actual and Predicted Classes')\n",
    "plt.ylabel('Class')\n",
    "plt.xlabel('Count')\n",
    "plt.show()"
   ]
  },
  {
   "cell_type": "markdown",
   "id": "9c1d31de",
   "metadata": {},
   "source": [
    "Over all a good model with 77% accuracy and Precision, Recall and F1 score not too far out from the accuracy. Perhaps take out some of the lower predictors such as Tutoring (at a fast glace)"
   ]
  },
  {
   "cell_type": "markdown",
   "id": "3619bdc5",
   "metadata": {},
   "source": [
    "#### Predict new student"
   ]
  },
  {
   "cell_type": "code",
   "execution_count": 126,
   "id": "77f745d7",
   "metadata": {},
   "outputs": [
    {
     "data": {
      "text/plain": [
       "array([1])"
      ]
     },
     "execution_count": 126,
     "metadata": {},
     "output_type": "execute_result"
    }
   ],
   "source": [
    "model.predict(scaler.transform([[18, 1, 0, 0, 14, 2, 0, 0, 0, 0, 0, 0, 3.4 ]]))\n",
    "# if a student is 18 years old, is female, caucasian, parents have no education, spends 14 hrs weekly studying, 2 times number of absences, \n",
    "# no tutoring, no parantal support, no extracurricular, no sports, no music, no volunteering, and has GPA of 3.2\n",
    "# then she will get an class 1 which is B"
   ]
  },
  {
   "cell_type": "code",
   "execution_count": 127,
   "id": "b49ed728",
   "metadata": {},
   "outputs": [
    {
     "data": {
      "text/plain": [
       "array([2])"
      ]
     },
     "execution_count": 127,
     "metadata": {},
     "output_type": "execute_result"
    }
   ],
   "source": [
    "model.predict(scaler.transform([[18, 1, 0, 3 , 14, 2, 0, 1, 1, 0, 0, 0, 3.0 ]]))\n",
    "# if a student is 18 years old, is female, caucasian, parents have no Bachelors, spends 14 hrs weekly studying, 2 times number of absences, \n",
    "# no tutoring, low parantal support, yes to extracurricular, no sports, no music, no volunteering, and has GPA of 3.0\n",
    "# then she will get an class 2 which is C"
   ]
  },
  {
   "cell_type": "markdown",
   "id": "1345502b",
   "metadata": {},
   "source": [
    "- Age - The age of the students ranges from 15 to 18 years.\n",
    "- Gender - Gender of the students, where 0 represents Male and 1 represents Female.\n",
    "- Ethnicity - The ethnicity of the students: 0: Caucasian, 1: African American, 2: Asian, 3: Other\n",
    "- ParentalEducation - 0: None, 1: High School, 2: Some College, 3: Bachelor's, 4: Higher, \n",
    "- StudyTimeWeekly - Weekly study time in hours, ranging from 0 to 20.\n",
    "- Absences - Number of absences during the school year, ranging from 0 to 30.\n",
    "- Tutoring - Tutoring status, where 0 indicates No and 1 indicates Yes.\n",
    "- ParentalSupport - 0: None, 1: Low, 2: Moderate, 3: High, 4: Very High\n",
    "- Extracurricular - Participation in extracurricular activities, where 0 indicates No and 1 indicates Yes.\n",
    "- Sports - Participation in sports, where 0 indicates No and 1 indicates Yes.\n",
    "- Music - Participation in music activities, where 0 indicates No and 1 indicates Yes.\n",
    "- Volunteering - Participation in volunteering, where 0 indicates No and 1 indicates Yes.\n",
    "- GPA - Grade Point Average on a scale from 2.0 to 4.0, influenced by study habits, parental involvement, and extracurricular activities.\n",
    "- Target Variable Grade Class - 0: 'A' (GPA >= 3.5), 1: 'B' (3.0 <= GPA < 3.5), 2: 'C' (2.5 <= GPA < 3.0), 3: 'D' (2.0 <= GPA < 2.5), 4: 'F' (GPA < 2.0)"
   ]
  },
  {
   "cell_type": "code",
   "execution_count": null,
   "id": "11b787e3",
   "metadata": {},
   "outputs": [],
   "source": []
  }
 ],
 "metadata": {
  "kernelspec": {
   "display_name": "Python 3 (ipykernel)",
   "language": "python",
   "name": "python3"
  },
  "language_info": {
   "codemirror_mode": {
    "name": "ipython",
    "version": 3
   },
   "file_extension": ".py",
   "mimetype": "text/x-python",
   "name": "python",
   "nbconvert_exporter": "python",
   "pygments_lexer": "ipython3",
   "version": "3.9.18"
  }
 },
 "nbformat": 4,
 "nbformat_minor": 5
}
