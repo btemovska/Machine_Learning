{
 "cells": [
  {
   "cell_type": "markdown",
   "id": "e8b74c35",
   "metadata": {},
   "source": [
    "#### Data comes from Kaggle https://www.kaggle.com/datasets/rabieelkharoua/students-performance-dataset\n",
    "\n",
    "- StudentID - A unique identifier assigned to each student (1001 to 3392).\n",
    "- Age - The age of the students ranges from 15 to 18 years.\n",
    "- Gender - Gender of the students, where 0 represents Male and 1 represents Female.\n",
    "- Ethnicity - The ethnicity of the students: 0: Caucasian, 1: African American, 2: Asian, 3: Other\n",
    "- ParentalEducation - 0: None, 1: High School, 2: Some College, 3: Bachelor's, 4: Higher, \n",
    "- StudyTimeWeekly - Weekly study time in hours, ranging from 0 to 20.\n",
    "- Absences - Number of absences during the school year, ranging from 0 to 30.\n",
    "- Tutoring - Tutoring status, where 0 indicates No and 1 indicates Yes.\n",
    "- ParentalSupport - 0: None, 1: Low, 2: Moderate, 3: High, 4: Very High\n",
    "- Extracurricular - Participation in extracurricular activities, where 0 indicates No and 1 indicates Yes.\n",
    "- Sports - Participation in sports, where 0 indicates No and 1 indicates Yes.\n",
    "- Music - Participation in music activities, where 0 indicates No and 1 indicates Yes.\n",
    "- Volunteering - Participation in volunteering, where 0 indicates No and 1 indicates Yes.\n",
    "- GPA - Grade Point Average on a scale from 2.0 to 4.0, influenced by study habits, parental involvement, and extracurricular activities.\n",
    "- Target Variable Grade Class - 0: 'A' (GPA >= 3.5), 1: 'B' (3.0 <= GPA < 3.5), 2: 'C' (2.5 <= GPA < 3.0), 3: 'D' (2.0 <= GPA < 2.5), 4: 'F' (GPA < 2.0)\n",
    "\n",
    "Note I've turn some columns into categorical, and only kept few of them for cleanliness while learning. Also while practicing it was the GPA by far the only important feature for predictions anyways."
   ]
  },
  {
   "cell_type": "markdown",
   "id": "276eb2b6",
   "metadata": {},
   "source": [
    "#### Import library"
   ]
  },
  {
   "cell_type": "code",
   "execution_count": 1,
   "id": "af65a49b",
   "metadata": {},
   "outputs": [],
   "source": [
    "import numpy as np\n",
    "import pandas as pd\n",
    "import seaborn as sns\n",
    "import matplotlib.pyplot as plt"
   ]
  },
  {
   "cell_type": "code",
   "execution_count": 2,
   "id": "8bc361ab",
   "metadata": {},
   "outputs": [
    {
     "data": {
      "text/html": [
       "<style>.container { width:95% !important; }</style>"
      ],
      "text/plain": [
       "<IPython.core.display.HTML object>"
      ]
     },
     "metadata": {},
     "output_type": "display_data"
    }
   ],
   "source": [
    "from IPython.core.display import display, HTML\n",
    "\n",
    "display(HTML(\"<style>.container { width:95% !important; }</style>\"))"
   ]
  },
  {
   "cell_type": "markdown",
   "id": "d743a4ee",
   "metadata": {},
   "source": [
    "#### Import dataset"
   ]
  },
  {
   "cell_type": "code",
   "execution_count": 3,
   "id": "ffaa8257",
   "metadata": {},
   "outputs": [
    {
     "data": {
      "text/html": [
       "<div>\n",
       "<style scoped>\n",
       "    .dataframe tbody tr th:only-of-type {\n",
       "        vertical-align: middle;\n",
       "    }\n",
       "\n",
       "    .dataframe tbody tr th {\n",
       "        vertical-align: top;\n",
       "    }\n",
       "\n",
       "    .dataframe thead th {\n",
       "        text-align: right;\n",
       "    }\n",
       "</style>\n",
       "<table border=\"1\" class=\"dataframe\">\n",
       "  <thead>\n",
       "    <tr style=\"text-align: right;\">\n",
       "      <th></th>\n",
       "      <th>Gender</th>\n",
       "      <th>Ethnicity</th>\n",
       "      <th>StudyTimeWeekly</th>\n",
       "      <th>Absences</th>\n",
       "      <th>GPA</th>\n",
       "      <th>Grade</th>\n",
       "    </tr>\n",
       "  </thead>\n",
       "  <tbody>\n",
       "    <tr>\n",
       "      <th>0</th>\n",
       "      <td>Female</td>\n",
       "      <td>Caucasian</td>\n",
       "      <td>19.833723</td>\n",
       "      <td>7</td>\n",
       "      <td>2.929196</td>\n",
       "      <td>Pass</td>\n",
       "    </tr>\n",
       "    <tr>\n",
       "      <th>1</th>\n",
       "      <td>Male</td>\n",
       "      <td>Caucasian</td>\n",
       "      <td>15.408756</td>\n",
       "      <td>0</td>\n",
       "      <td>3.042915</td>\n",
       "      <td>Pass</td>\n",
       "    </tr>\n",
       "    <tr>\n",
       "      <th>2</th>\n",
       "      <td>Male</td>\n",
       "      <td>Asian</td>\n",
       "      <td>4.210570</td>\n",
       "      <td>26</td>\n",
       "      <td>0.112602</td>\n",
       "      <td>Fail</td>\n",
       "    </tr>\n",
       "    <tr>\n",
       "      <th>3</th>\n",
       "      <td>Female</td>\n",
       "      <td>Caucasian</td>\n",
       "      <td>10.028829</td>\n",
       "      <td>14</td>\n",
       "      <td>2.054218</td>\n",
       "      <td>Fail</td>\n",
       "    </tr>\n",
       "    <tr>\n",
       "      <th>4</th>\n",
       "      <td>Female</td>\n",
       "      <td>Caucasian</td>\n",
       "      <td>4.672495</td>\n",
       "      <td>17</td>\n",
       "      <td>1.288061</td>\n",
       "      <td>Fail</td>\n",
       "    </tr>\n",
       "    <tr>\n",
       "      <th>...</th>\n",
       "      <td>...</td>\n",
       "      <td>...</td>\n",
       "      <td>...</td>\n",
       "      <td>...</td>\n",
       "      <td>...</td>\n",
       "      <td>...</td>\n",
       "    </tr>\n",
       "    <tr>\n",
       "      <th>2387</th>\n",
       "      <td>Female</td>\n",
       "      <td>Caucasian</td>\n",
       "      <td>10.680555</td>\n",
       "      <td>2</td>\n",
       "      <td>3.455509</td>\n",
       "      <td>Pass</td>\n",
       "    </tr>\n",
       "    <tr>\n",
       "      <th>2388</th>\n",
       "      <td>Male</td>\n",
       "      <td>Caucasian</td>\n",
       "      <td>7.583217</td>\n",
       "      <td>4</td>\n",
       "      <td>3.279150</td>\n",
       "      <td>Fail</td>\n",
       "    </tr>\n",
       "    <tr>\n",
       "      <th>2389</th>\n",
       "      <td>Female</td>\n",
       "      <td>Caucasian</td>\n",
       "      <td>6.805500</td>\n",
       "      <td>20</td>\n",
       "      <td>1.142333</td>\n",
       "      <td>Pass</td>\n",
       "    </tr>\n",
       "    <tr>\n",
       "      <th>2390</th>\n",
       "      <td>Female</td>\n",
       "      <td>AfricanAmerican</td>\n",
       "      <td>12.416653</td>\n",
       "      <td>17</td>\n",
       "      <td>1.803297</td>\n",
       "      <td>Pass</td>\n",
       "    </tr>\n",
       "    <tr>\n",
       "      <th>2391</th>\n",
       "      <td>Female</td>\n",
       "      <td>Caucasian</td>\n",
       "      <td>17.819907</td>\n",
       "      <td>13</td>\n",
       "      <td>2.140014</td>\n",
       "      <td>Pass</td>\n",
       "    </tr>\n",
       "  </tbody>\n",
       "</table>\n",
       "<p>2392 rows × 6 columns</p>\n",
       "</div>"
      ],
      "text/plain": [
       "      Gender        Ethnicity  StudyTimeWeekly  Absences       GPA Grade\n",
       "0     Female        Caucasian        19.833723         7  2.929196  Pass\n",
       "1       Male        Caucasian        15.408756         0  3.042915  Pass\n",
       "2       Male            Asian         4.210570        26  0.112602  Fail\n",
       "3     Female        Caucasian        10.028829        14  2.054218  Fail\n",
       "4     Female        Caucasian         4.672495        17  1.288061  Fail\n",
       "...      ...              ...              ...       ...       ...   ...\n",
       "2387  Female        Caucasian        10.680555         2  3.455509  Pass\n",
       "2388    Male        Caucasian         7.583217         4  3.279150  Fail\n",
       "2389  Female        Caucasian         6.805500        20  1.142333  Pass\n",
       "2390  Female  AfricanAmerican        12.416653        17  1.803297  Pass\n",
       "2391  Female        Caucasian        17.819907        13  2.140014  Pass\n",
       "\n",
       "[2392 rows x 6 columns]"
      ]
     },
     "execution_count": 3,
     "metadata": {},
     "output_type": "execute_result"
    }
   ],
   "source": [
    "dataset = pd.read_csv('Student_performance_data _2.csv')\n",
    "dataset = dataset.drop(columns=['StudentID', 'Age' , 'ParentalEducation', 'Tutoring', 'ParentalSupport', 'Extracurricular', 'Sports', 'Music', 'Volunteering'])\n",
    "dataset.rename(columns = { 'GradeClass': 'Grade'}, inplace=True)\n",
    "dataset"
   ]
  },
  {
   "cell_type": "code",
   "execution_count": 5,
   "id": "6de346cb",
   "metadata": {},
   "outputs": [
    {
     "data": {
      "text/plain": [
       "Fail    1625\n",
       "Pass     767\n",
       "Name: Grade, dtype: int64"
      ]
     },
     "execution_count": 5,
     "metadata": {},
     "output_type": "execute_result"
    }
   ],
   "source": [
    "dataset['Grade'].value_counts() \n",
    "#there is little bit of imbalanced dataset"
   ]
  },
  {
   "cell_type": "code",
   "execution_count": 6,
   "id": "6dbdd783",
   "metadata": {},
   "outputs": [],
   "source": [
    "#sns.scatterplot(data = dataset, x='StudyTimeWk', y='GPA', hue='Grade', alpha=0.7) "
   ]
  },
  {
   "cell_type": "markdown",
   "id": "27bea3ae",
   "metadata": {},
   "source": [
    "#### Create Dummy Variables\n",
    "Note: if we leave Ethnicity as is the model might interpret that there is level of importance For example, 3: Other is greater than 2: Asian which is greater than 1: African American, etc. We want to avoid the relationship/level of importance and turn them into binary/dummy.\n",
    "\n",
    "Gender is good, Ethnicity needs converted, StudyTime is good, Absences is good (as more the more important it is), GPA is good, and Grade needs converted (A, B or C needs to be Pass and D & F needs to be fail"
   ]
  },
  {
   "cell_type": "code",
   "execution_count": 8,
   "id": "6139daf4",
   "metadata": {},
   "outputs": [
    {
     "data": {
      "text/html": [
       "<div>\n",
       "<style scoped>\n",
       "    .dataframe tbody tr th:only-of-type {\n",
       "        vertical-align: middle;\n",
       "    }\n",
       "\n",
       "    .dataframe tbody tr th {\n",
       "        vertical-align: top;\n",
       "    }\n",
       "\n",
       "    .dataframe thead th {\n",
       "        text-align: right;\n",
       "    }\n",
       "</style>\n",
       "<table border=\"1\" class=\"dataframe\">\n",
       "  <thead>\n",
       "    <tr style=\"text-align: right;\">\n",
       "      <th></th>\n",
       "      <th>StudyTimeWeekly</th>\n",
       "      <th>Absences</th>\n",
       "      <th>GPA</th>\n",
       "      <th>Gender_Male</th>\n",
       "      <th>Ethnicity_Asian</th>\n",
       "      <th>Ethnicity_Caucasian</th>\n",
       "      <th>Ethnicity_Other</th>\n",
       "      <th>Grade_Pass</th>\n",
       "    </tr>\n",
       "  </thead>\n",
       "  <tbody>\n",
       "    <tr>\n",
       "      <th>0</th>\n",
       "      <td>19.833723</td>\n",
       "      <td>7</td>\n",
       "      <td>2.929196</td>\n",
       "      <td>0</td>\n",
       "      <td>0</td>\n",
       "      <td>1</td>\n",
       "      <td>0</td>\n",
       "      <td>1</td>\n",
       "    </tr>\n",
       "    <tr>\n",
       "      <th>1</th>\n",
       "      <td>15.408756</td>\n",
       "      <td>0</td>\n",
       "      <td>3.042915</td>\n",
       "      <td>1</td>\n",
       "      <td>0</td>\n",
       "      <td>1</td>\n",
       "      <td>0</td>\n",
       "      <td>1</td>\n",
       "    </tr>\n",
       "    <tr>\n",
       "      <th>2</th>\n",
       "      <td>4.210570</td>\n",
       "      <td>26</td>\n",
       "      <td>0.112602</td>\n",
       "      <td>1</td>\n",
       "      <td>1</td>\n",
       "      <td>0</td>\n",
       "      <td>0</td>\n",
       "      <td>0</td>\n",
       "    </tr>\n",
       "    <tr>\n",
       "      <th>3</th>\n",
       "      <td>10.028829</td>\n",
       "      <td>14</td>\n",
       "      <td>2.054218</td>\n",
       "      <td>0</td>\n",
       "      <td>0</td>\n",
       "      <td>1</td>\n",
       "      <td>0</td>\n",
       "      <td>0</td>\n",
       "    </tr>\n",
       "    <tr>\n",
       "      <th>4</th>\n",
       "      <td>4.672495</td>\n",
       "      <td>17</td>\n",
       "      <td>1.288061</td>\n",
       "      <td>0</td>\n",
       "      <td>0</td>\n",
       "      <td>1</td>\n",
       "      <td>0</td>\n",
       "      <td>0</td>\n",
       "    </tr>\n",
       "    <tr>\n",
       "      <th>...</th>\n",
       "      <td>...</td>\n",
       "      <td>...</td>\n",
       "      <td>...</td>\n",
       "      <td>...</td>\n",
       "      <td>...</td>\n",
       "      <td>...</td>\n",
       "      <td>...</td>\n",
       "      <td>...</td>\n",
       "    </tr>\n",
       "    <tr>\n",
       "      <th>2387</th>\n",
       "      <td>10.680555</td>\n",
       "      <td>2</td>\n",
       "      <td>3.455509</td>\n",
       "      <td>0</td>\n",
       "      <td>0</td>\n",
       "      <td>1</td>\n",
       "      <td>0</td>\n",
       "      <td>1</td>\n",
       "    </tr>\n",
       "    <tr>\n",
       "      <th>2388</th>\n",
       "      <td>7.583217</td>\n",
       "      <td>4</td>\n",
       "      <td>3.279150</td>\n",
       "      <td>1</td>\n",
       "      <td>0</td>\n",
       "      <td>1</td>\n",
       "      <td>0</td>\n",
       "      <td>0</td>\n",
       "    </tr>\n",
       "    <tr>\n",
       "      <th>2389</th>\n",
       "      <td>6.805500</td>\n",
       "      <td>20</td>\n",
       "      <td>1.142333</td>\n",
       "      <td>0</td>\n",
       "      <td>0</td>\n",
       "      <td>1</td>\n",
       "      <td>0</td>\n",
       "      <td>1</td>\n",
       "    </tr>\n",
       "    <tr>\n",
       "      <th>2390</th>\n",
       "      <td>12.416653</td>\n",
       "      <td>17</td>\n",
       "      <td>1.803297</td>\n",
       "      <td>0</td>\n",
       "      <td>0</td>\n",
       "      <td>0</td>\n",
       "      <td>0</td>\n",
       "      <td>1</td>\n",
       "    </tr>\n",
       "    <tr>\n",
       "      <th>2391</th>\n",
       "      <td>17.819907</td>\n",
       "      <td>13</td>\n",
       "      <td>2.140014</td>\n",
       "      <td>0</td>\n",
       "      <td>0</td>\n",
       "      <td>1</td>\n",
       "      <td>0</td>\n",
       "      <td>1</td>\n",
       "    </tr>\n",
       "  </tbody>\n",
       "</table>\n",
       "<p>2392 rows × 8 columns</p>\n",
       "</div>"
      ],
      "text/plain": [
       "      StudyTimeWeekly  Absences       GPA  Gender_Male  Ethnicity_Asian  \\\n",
       "0           19.833723         7  2.929196            0                0   \n",
       "1           15.408756         0  3.042915            1                0   \n",
       "2            4.210570        26  0.112602            1                1   \n",
       "3           10.028829        14  2.054218            0                0   \n",
       "4            4.672495        17  1.288061            0                0   \n",
       "...               ...       ...       ...          ...              ...   \n",
       "2387        10.680555         2  3.455509            0                0   \n",
       "2388         7.583217         4  3.279150            1                0   \n",
       "2389         6.805500        20  1.142333            0                0   \n",
       "2390        12.416653        17  1.803297            0                0   \n",
       "2391        17.819907        13  2.140014            0                0   \n",
       "\n",
       "      Ethnicity_Caucasian  Ethnicity_Other  Grade_Pass  \n",
       "0                       1                0           1  \n",
       "1                       1                0           1  \n",
       "2                       0                0           0  \n",
       "3                       1                0           0  \n",
       "4                       1                0           0  \n",
       "...                   ...              ...         ...  \n",
       "2387                    1                0           1  \n",
       "2388                    1                0           0  \n",
       "2389                    1                0           1  \n",
       "2390                    0                0           1  \n",
       "2391                    1                0           1  \n",
       "\n",
       "[2392 rows x 8 columns]"
      ]
     },
     "execution_count": 8,
     "metadata": {},
     "output_type": "execute_result"
    }
   ],
   "source": [
    "df = pd.get_dummies(dataset, drop_first=True) #To avoid multicollinearity (especially useful for regression models)\n",
    "df = pd.concat([df], axis=1)\n",
    "df"
   ]
  },
  {
   "cell_type": "markdown",
   "id": "6a8c5641",
   "metadata": {},
   "source": [
    "#### Separate X features & y labels"
   ]
  },
  {
   "cell_type": "code",
   "execution_count": 9,
   "id": "b794c7b1",
   "metadata": {},
   "outputs": [],
   "source": [
    "X = df.iloc[:, :-1].values\n",
    "y = df.iloc[:, -1].values"
   ]
  },
  {
   "cell_type": "markdown",
   "id": "d093259e",
   "metadata": {},
   "source": [
    "#### SPLIT into Training & Test set"
   ]
  },
  {
   "cell_type": "code",
   "execution_count": 10,
   "id": "09b1576a",
   "metadata": {},
   "outputs": [],
   "source": [
    "from sklearn.model_selection import train_test_split\n",
    "X_train, X_test, y_train, y_test = train_test_split(X, y, test_size = 0.2, random_state = 0)"
   ]
  },
  {
   "cell_type": "markdown",
   "id": "cefa24eb",
   "metadata": {},
   "source": [
    "#### Feature Scaling (Standard Scaler)"
   ]
  },
  {
   "cell_type": "code",
   "execution_count": 11,
   "id": "6f92cb47",
   "metadata": {},
   "outputs": [],
   "source": [
    "from sklearn.preprocessing import StandardScaler # not a bad idea to scale\n",
    "scaler = StandardScaler()\n",
    "\n",
    "scaled_X_train = scaler.fit_transform(X_train)\n",
    "scaled_X_test = scaler.transform(X_test)"
   ]
  },
  {
   "cell_type": "markdown",
   "id": "5213fb7e",
   "metadata": {},
   "source": [
    "#### TRAIN the model"
   ]
  },
  {
   "cell_type": "code",
   "execution_count": 12,
   "id": "e7f28b6d",
   "metadata": {},
   "outputs": [
    {
     "data": {
      "text/plain": [
       "SVC()"
      ]
     },
     "execution_count": 12,
     "metadata": {},
     "output_type": "execute_result"
    }
   ],
   "source": [
    "from sklearn.svm import SVC  # Support Vector Classifier (with Soft Margins)\n",
    "model = SVC(kernel='rbf', C=1.0) #default values #SVM use kernels to project data to higher dimension to separate the data\n",
    "model.fit(scaled_X_train, y_train)"
   ]
  },
  {
   "cell_type": "markdown",
   "id": "1219c345",
   "metadata": {},
   "source": [
    "#### TEST the model"
   ]
  },
  {
   "cell_type": "code",
   "execution_count": 13,
   "id": "5e1fcd4d",
   "metadata": {},
   "outputs": [
    {
     "data": {
      "text/html": [
       "<div>\n",
       "<style scoped>\n",
       "    .dataframe tbody tr th:only-of-type {\n",
       "        vertical-align: middle;\n",
       "    }\n",
       "\n",
       "    .dataframe tbody tr th {\n",
       "        vertical-align: top;\n",
       "    }\n",
       "\n",
       "    .dataframe thead th {\n",
       "        text-align: right;\n",
       "    }\n",
       "</style>\n",
       "<table border=\"1\" class=\"dataframe\">\n",
       "  <thead>\n",
       "    <tr style=\"text-align: right;\">\n",
       "      <th></th>\n",
       "      <th>y_test</th>\n",
       "      <th>y_pred</th>\n",
       "    </tr>\n",
       "  </thead>\n",
       "  <tbody>\n",
       "    <tr>\n",
       "      <th>163</th>\n",
       "      <td>0</td>\n",
       "      <td>0</td>\n",
       "    </tr>\n",
       "    <tr>\n",
       "      <th>156</th>\n",
       "      <td>0</td>\n",
       "      <td>0</td>\n",
       "    </tr>\n",
       "    <tr>\n",
       "      <th>437</th>\n",
       "      <td>1</td>\n",
       "      <td>1</td>\n",
       "    </tr>\n",
       "    <tr>\n",
       "      <th>478</th>\n",
       "      <td>0</td>\n",
       "      <td>0</td>\n",
       "    </tr>\n",
       "    <tr>\n",
       "      <th>276</th>\n",
       "      <td>1</td>\n",
       "      <td>1</td>\n",
       "    </tr>\n",
       "  </tbody>\n",
       "</table>\n",
       "</div>"
      ],
      "text/plain": [
       "     y_test  y_pred\n",
       "163       0       0\n",
       "156       0       0\n",
       "437       1       1\n",
       "478       0       0\n",
       "276       1       1"
      ]
     },
     "execution_count": 13,
     "metadata": {},
     "output_type": "execute_result"
    }
   ],
   "source": [
    "y_pred = model.predict(scaled_X_test)\n",
    "new_df = pd.DataFrame({'y_test': y_test, 'y_pred': y_pred})\n",
    "new_df.sample(5)"
   ]
  },
  {
   "cell_type": "markdown",
   "id": "5935c032",
   "metadata": {},
   "source": [
    "#### EVAULATE the model"
   ]
  },
  {
   "cell_type": "code",
   "execution_count": 14,
   "id": "6cca5dc0",
   "metadata": {},
   "outputs": [
    {
     "name": "stdout",
     "output_type": "stream",
     "text": [
      "Accuracy Score: 0.9206680584551148\n",
      "Precision Score: 0.922014933253772\n",
      "Recall Score: 0.9206680584551148\n",
      "F1 Score: 0.9190381164455426\n"
     ]
    }
   ],
   "source": [
    "from sklearn.metrics import accuracy_score, confusion_matrix, classification_report, precision_score, recall_score, f1_score\n",
    "\n",
    "# model.coef_ ----note only available on linear kernel\n",
    "\n",
    "print(f'Accuracy Score: {accuracy_score(y_test, y_pred)}')\n",
    "print(f\"Precision Score: {precision_score(y_test, y_pred, average='weighted')}\")\n",
    "print(f\"Recall Score: {recall_score(y_test, y_pred, average='weighted')}\")\n",
    "print(f\"F1 Score: {f1_score(y_test, y_pred, average='weighted')}\")\n",
    "\n",
    "#OK this is not a bad model."
   ]
  },
  {
   "cell_type": "code",
   "execution_count": 15,
   "id": "71b352c8",
   "metadata": {},
   "outputs": [],
   "source": [
    "import warnings\n",
    "warnings.filterwarnings('ignore')"
   ]
  },
  {
   "cell_type": "code",
   "execution_count": 16,
   "id": "21a14888",
   "metadata": {},
   "outputs": [
    {
     "data": {
      "image/png": "[encoded data removed]",
      "text/plain": [
       "<Figure size 200x200 with 2 Axes>"
      ]
     },
     "metadata": {},
     "output_type": "display_data"
    }
   ],
   "source": [
    "from sklearn.metrics import plot_confusion_matrix\n",
    "plot_confusion_matrix(model, scaled_X_test, y_test).figure_.set_size_inches(2, 2)"
   ]
  },
  {
   "cell_type": "code",
   "execution_count": 17,
   "id": "20e7d88e",
   "metadata": {},
   "outputs": [
    {
     "data": {
      "text/plain": [
       "array([[312,   8],\n",
       "       [ 30, 129]], dtype=int64)"
      ]
     },
     "execution_count": 17,
     "metadata": {},
     "output_type": "execute_result"
    }
   ],
   "source": [
    "confusion_matrix(y_test, y_pred)"
   ]
  },
  {
   "cell_type": "markdown",
   "id": "6dc571f3",
   "metadata": {},
   "source": [
    "#### Visualize the model"
   ]
  },
  {
   "cell_type": "code",
   "execution_count": 18,
   "id": "0b774147",
   "metadata": {},
   "outputs": [
    {
     "data": {
      "image/png": "[encoded data removed]",
      "text/plain": [
       "<Figure size 800x400 with 1 Axes>"
      ]
     },
     "metadata": {},
     "output_type": "display_data"
    }
   ],
   "source": [
    "plt.figure(figsize=(8, 4))\n",
    "\n",
    "sns.kdeplot(y_test, label='Actual', shade=True)\n",
    "sns.kdeplot(y_pred, label='Predicted', shade=True)\n",
    "\n",
    "plt.title('Actual and Predicted values')\n",
    "plt.xlabel('Class')\n",
    "plt.ylabel('Density/Frequency')\n",
    "plt.legend()\n",
    "plt.show()\n",
    "\n",
    "# y_test & y_pred mostly overlap, thus a good model"
   ]
  },
  {
   "cell_type": "code",
   "execution_count": 20,
   "id": "3f5dbfaf",
   "metadata": {},
   "outputs": [
    {
     "data": {
      "image/png": "[encoded data removed]",
      "text/plain": [
       "<Figure size 600x200 with 1 Axes>"
      ]
     },
     "metadata": {},
     "output_type": "display_data"
    }
   ],
   "source": [
    "# Combine y_test and y_pred into a single DataFrame\n",
    "comparison_df = pd.DataFrame({'Actual': y_test, 'Predicted': y_pred})\n",
    "\n",
    "# Plot the counts of each class\n",
    "plt.figure(figsize=(6, 2))\n",
    "plot = sns.countplot(y='variable', hue='value', data=pd.melt(comparison_df))\n",
    "\n",
    "# Add counts on top of the bars\n",
    "for p in plot.patches:\n",
    "    plot.annotate(format(p.get_width(), '.0f'), \n",
    "                  (p.get_width(), p.get_y() + p.get_height() / 2.), \n",
    "                  ha = 'center', va = 'center', \n",
    "                  xytext = (9, 0), \n",
    "                  textcoords = 'offset points')\n",
    "\n",
    "plt.legend(title='Value', bbox_to_anchor=(1.05, 1), loc='upper left')\n",
    "plt.grid(True, linestyle='--', alpha=0.7)\n",
    "plt.title('Count of Actual and Predicted Classes')\n",
    "plt.ylabel('Class')\n",
    "plt.xlabel('Count')\n",
    "plt.show()"
   ]
  },
  {
   "cell_type": "markdown",
   "id": "3619bdc5",
   "metadata": {},
   "source": [
    "#### Predict new student"
   ]
  },
  {
   "cell_type": "code",
   "execution_count": 21,
   "id": "77f745d7",
   "metadata": {},
   "outputs": [
    {
     "name": "stdout",
     "output_type": "stream",
     "text": [
      "[1]\n"
     ]
    }
   ],
   "source": [
    "print(model.predict(scaler.transform([[14, 2, 3.4, 0, 0, 1, 0]])))\n",
    "# if a student spends 14 hours Studying Weekly, it is Absence 2x, has GPA of 3.4, is female, caucasian then the student will Pass"
   ]
  },
  {
   "cell_type": "code",
   "execution_count": 22,
   "id": "1275cdf3",
   "metadata": {},
   "outputs": [
    {
     "name": "stdout",
     "output_type": "stream",
     "text": [
      "[0]\n"
     ]
    }
   ],
   "source": [
    "print(model.predict(scaler.transform([[14, 2, 1.0, 0, 0, 1, 0]])))\n",
    "# if a student spends 14 hours Studying Weekly, it is Absence 2x, has GPA of 1.0, is female, caucasian then the student will Fail"
   ]
  },
  {
   "cell_type": "markdown",
   "id": "1345502b",
   "metadata": {},
   "source": [
    "- Age - The age of the students ranges from 15 to 18 years.\n",
    "- Gender - Gender of the students, where 0 represents Male and 1 represents Female.\n",
    "- Ethnicity - The ethnicity of the students: 0: Caucasian, 1: African American, 2: Asian, 3: Other\n",
    "- ParentalEducation - 0: None, 1: High School, 2: Some College, 3: Bachelor's, 4: Higher, \n",
    "- StudyTimeWeekly - Weekly study time in hours, ranging from 0 to 20.\n",
    "- Absences - Number of absences during the school year, ranging from 0 to 30.\n",
    "- Tutoring - Tutoring status, where 0 indicates No and 1 indicates Yes.\n",
    "- ParentalSupport - 0: None, 1: Low, 2: Moderate, 3: High, 4: Very High\n",
    "- Extracurricular - Participation in extracurricular activities, where 0 indicates No and 1 indicates Yes.\n",
    "- Sports - Participation in sports, where 0 indicates No and 1 indicates Yes.\n",
    "- Music - Participation in music activities, where 0 indicates No and 1 indicates Yes.\n",
    "- Volunteering - Participation in volunteering, where 0 indicates No and 1 indicates Yes.\n",
    "- GPA - Grade Point Average on a scale from 2.0 to 4.0, influenced by study habits, parental involvement, and extracurricular activities.\n",
    "- Target Variable Grade Class - 0: 'A' (GPA >= 3.5), 1: 'B' (3.0 <= GPA < 3.5), 2: 'C' (2.5 <= GPA < 3.0), 3: 'D' (2.0 <= GPA < 2.5), 4: 'F' (GPA < 2.0)"
   ]
  },
  {
   "cell_type": "markdown",
   "id": "b0f5f8a2",
   "metadata": {},
   "source": [
    "#### Grid Search with Cross Validation\n",
    "\n",
    "OK so what is a good kernel or the number of C? Lets do Grid Search let the computer do the work instead of spending time and testing bunch."
   ]
  },
  {
   "cell_type": "code",
   "execution_count": 23,
   "id": "7cf155cb",
   "metadata": {},
   "outputs": [
    {
     "data": {
      "text/plain": [
       "{'C': 1, 'kernel': 'linear'}"
      ]
     },
     "execution_count": 23,
     "metadata": {},
     "output_type": "execute_result"
    }
   ],
   "source": [
    "import warnings\n",
    "warnings.filterwarnings('ignore')\n",
    "\n",
    "from sklearn.model_selection import GridSearchCV\n",
    "svm = SVC()\n",
    "param_grid = {'C': [0.01, 0.1, 1], \n",
    "             'kernel':['linear', 'rbf', 'linear']}\n",
    "\n",
    "grid = GridSearchCV(svm, param_grid)\n",
    "grid.fit(X, y)\n",
    "grid.best_params_\n",
    "\n",
    "#interesting it picked linear to be better than rbf. Lets try and see at the results"
   ]
  },
  {
   "cell_type": "code",
   "execution_count": 24,
   "id": "e5b5194a",
   "metadata": {},
   "outputs": [
    {
     "name": "stdout",
     "output_type": "stream",
     "text": [
      "Accuracy Score: 0.9290187891440501\n",
      "Precision Score: 0.9288796787422366\n",
      "Recall Score: 0.9290187891440501\n",
      "F1 Score: 0.9282802020227894\n"
     ]
    }
   ],
   "source": [
    "from sklearn.svm import SVC  \n",
    "model = SVC(kernel='linear', C=1.0) \n",
    "model.fit(scaled_X_train, y_train)\n",
    "\n",
    "y_pred = model.predict(scaled_X_test)\n",
    "new_df = pd.DataFrame({'y_test': y_test, 'y_pred': y_pred})\n",
    "\n",
    "print(f'Accuracy Score: {accuracy_score(y_test, y_pred)}')\n",
    "print(f\"Precision Score: {precision_score(y_test, y_pred, average='weighted')}\")\n",
    "print(f\"Recall Score: {recall_score(y_test, y_pred, average='weighted')}\")\n",
    "print(f\"F1 Score: {f1_score(y_test, y_pred, average='weighted')}\")"
   ]
  },
  {
   "cell_type": "code",
   "execution_count": 25,
   "id": "37103056",
   "metadata": {},
   "outputs": [],
   "source": [
    "# results from first model\n",
    "#Accuracy Score: 0.9206680584551148\n",
    "#Precision Score: 0.922014933253772\n",
    "#Recall Score: 0.9206680584551148\n",
    "#F1 Score: 0.9190381164455426\n",
    "\n",
    "# well it definitely made the model better across the board\n",
    "# OK this is why we do Cross Validation as it can give us better metrics to use"
   ]
  },
  {
   "cell_type": "code",
   "execution_count": 27,
   "id": "0808957f",
   "metadata": {},
   "outputs": [],
   "source": [
    "# see 3.1 for different kernels"
   ]
  },
  {
   "cell_type": "code",
   "execution_count": null,
   "id": "15383b29",
   "metadata": {},
   "outputs": [],
   "source": []
  }
 ],
 "metadata": {
  "kernelspec": {
   "display_name": "Python 3 (ipykernel)",
   "language": "python",
   "name": "python3"
  },
  "language_info": {
   "codemirror_mode": {
    "name": "ipython",
    "version": 3
   },
   "file_extension": ".py",
   "mimetype": "text/x-python",
   "name": "python",
   "nbconvert_exporter": "python",
   "pygments_lexer": "ipython3",
   "version": "3.9.18"
  }
 },
 "nbformat": 4,
 "nbformat_minor": 5
}
