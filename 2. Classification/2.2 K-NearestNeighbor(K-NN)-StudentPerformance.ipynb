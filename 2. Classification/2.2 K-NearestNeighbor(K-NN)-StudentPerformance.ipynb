{
 "cells": [
  {
   "cell_type": "markdown",
   "id": "e8b74c35",
   "metadata": {},
   "source": [
    "#### Data comes from Kaggle https://www.kaggle.com/datasets/rabieelkharoua/students-performance-dataset\n",
    "\n",
    "- StudentID - A unique identifier assigned to each student (1001 to 3392).\n",
    "- Age - The age of the students ranges from 15 to 18 years.\n",
    "- Gender - Gender of the students, where 0 represents Male and 1 represents Female.\n",
    "- Ethnicity - The ethnicity of the students: 0: Caucasian, 1: African American, 2: Asian, 3: Other\n",
    "- ParentalEducation - 0: None, 1: High School, 2: Some College, 3: Bachelor's, 4: Higher, \n",
    "- StudyTimeWeekly - Weekly study time in hours, ranging from 0 to 20.\n",
    "- Absences - Number of absences during the school year, ranging from 0 to 30.\n",
    "- Tutoring - Tutoring status, where 0 indicates No and 1 indicates Yes.\n",
    "- ParentalSupport - 0: None, 1: Low, 2: Moderate, 3: High, 4: Very High\n",
    "- Extracurricular - Participation in extracurricular activities, where 0 indicates No and 1 indicates Yes.\n",
    "- Sports - Participation in sports, where 0 indicates No and 1 indicates Yes.\n",
    "- Music - Participation in music activities, where 0 indicates No and 1 indicates Yes.\n",
    "- Volunteering - Participation in volunteering, where 0 indicates No and 1 indicates Yes.\n",
    "- GPA - Grade Point Average on a scale from 2.0 to 4.0, influenced by study habits, parental involvement, and extracurricular activities.\n",
    "- Target Variable Grade Class - 0: 'A' (GPA >= 3.5), 1: 'B' (3.0 <= GPA < 3.5), 2: 'C' (2.5 <= GPA < 3.0), 3: 'D' (2.0 <= GPA < 2.5), 4: 'F' (GPA < 2.0)"
   ]
  },
  {
   "cell_type": "markdown",
   "id": "276eb2b6",
   "metadata": {},
   "source": [
    "#### Import library"
   ]
  },
  {
   "cell_type": "code",
   "execution_count": 1,
   "id": "af65a49b",
   "metadata": {},
   "outputs": [],
   "source": [
    "import numpy as np\n",
    "import pandas as pd\n",
    "import seaborn as sns\n",
    "import matplotlib.pyplot as plt"
   ]
  },
  {
   "cell_type": "code",
   "execution_count": 2,
   "id": "8bc361ab",
   "metadata": {},
   "outputs": [
    {
     "data": {
      "text/html": [
       "<style>.container { width:95% !important; }</style>"
      ],
      "text/plain": [
       "<IPython.core.display.HTML object>"
      ]
     },
     "metadata": {},
     "output_type": "display_data"
    }
   ],
   "source": [
    "from IPython.core.display import display, HTML\n",
    "\n",
    "display(HTML(\"<style>.container { width:95% !important; }</style>\"))"
   ]
  },
  {
   "cell_type": "markdown",
   "id": "d743a4ee",
   "metadata": {},
   "source": [
    "#### Import dataset"
   ]
  },
  {
   "cell_type": "code",
   "execution_count": 5,
   "id": "ffaa8257",
   "metadata": {},
   "outputs": [
    {
     "data": {
      "text/html": [
       "<div>\n",
       "<style scoped>\n",
       "    .dataframe tbody tr th:only-of-type {\n",
       "        vertical-align: middle;\n",
       "    }\n",
       "\n",
       "    .dataframe tbody tr th {\n",
       "        vertical-align: top;\n",
       "    }\n",
       "\n",
       "    .dataframe thead th {\n",
       "        text-align: right;\n",
       "    }\n",
       "</style>\n",
       "<table border=\"1\" class=\"dataframe\">\n",
       "  <thead>\n",
       "    <tr style=\"text-align: right;\">\n",
       "      <th></th>\n",
       "      <th>Gender</th>\n",
       "      <th>Ethnicity</th>\n",
       "      <th>StudyTimeWeekly</th>\n",
       "      <th>Absences</th>\n",
       "      <th>GPA</th>\n",
       "      <th>Grade</th>\n",
       "    </tr>\n",
       "  </thead>\n",
       "  <tbody>\n",
       "    <tr>\n",
       "      <th>0</th>\n",
       "      <td>Female</td>\n",
       "      <td>Caucasian</td>\n",
       "      <td>19.833723</td>\n",
       "      <td>7</td>\n",
       "      <td>2.929196</td>\n",
       "      <td>Pass</td>\n",
       "    </tr>\n",
       "    <tr>\n",
       "      <th>1</th>\n",
       "      <td>Male</td>\n",
       "      <td>Caucasian</td>\n",
       "      <td>15.408756</td>\n",
       "      <td>0</td>\n",
       "      <td>3.042915</td>\n",
       "      <td>Pass</td>\n",
       "    </tr>\n",
       "    <tr>\n",
       "      <th>2</th>\n",
       "      <td>Male</td>\n",
       "      <td>Asian</td>\n",
       "      <td>4.210570</td>\n",
       "      <td>26</td>\n",
       "      <td>0.112602</td>\n",
       "      <td>Fail</td>\n",
       "    </tr>\n",
       "    <tr>\n",
       "      <th>3</th>\n",
       "      <td>Female</td>\n",
       "      <td>Caucasian</td>\n",
       "      <td>10.028829</td>\n",
       "      <td>14</td>\n",
       "      <td>2.054218</td>\n",
       "      <td>Fail</td>\n",
       "    </tr>\n",
       "    <tr>\n",
       "      <th>4</th>\n",
       "      <td>Female</td>\n",
       "      <td>Caucasian</td>\n",
       "      <td>4.672495</td>\n",
       "      <td>17</td>\n",
       "      <td>1.288061</td>\n",
       "      <td>Fail</td>\n",
       "    </tr>\n",
       "    <tr>\n",
       "      <th>...</th>\n",
       "      <td>...</td>\n",
       "      <td>...</td>\n",
       "      <td>...</td>\n",
       "      <td>...</td>\n",
       "      <td>...</td>\n",
       "      <td>...</td>\n",
       "    </tr>\n",
       "    <tr>\n",
       "      <th>2387</th>\n",
       "      <td>Female</td>\n",
       "      <td>Caucasian</td>\n",
       "      <td>10.680555</td>\n",
       "      <td>2</td>\n",
       "      <td>3.455509</td>\n",
       "      <td>Pass</td>\n",
       "    </tr>\n",
       "    <tr>\n",
       "      <th>2388</th>\n",
       "      <td>Male</td>\n",
       "      <td>Caucasian</td>\n",
       "      <td>7.583217</td>\n",
       "      <td>4</td>\n",
       "      <td>3.279150</td>\n",
       "      <td>Fail</td>\n",
       "    </tr>\n",
       "    <tr>\n",
       "      <th>2389</th>\n",
       "      <td>Female</td>\n",
       "      <td>Caucasian</td>\n",
       "      <td>6.805500</td>\n",
       "      <td>20</td>\n",
       "      <td>1.142333</td>\n",
       "      <td>Pass</td>\n",
       "    </tr>\n",
       "    <tr>\n",
       "      <th>2390</th>\n",
       "      <td>Female</td>\n",
       "      <td>AfricanAmerican</td>\n",
       "      <td>12.416653</td>\n",
       "      <td>17</td>\n",
       "      <td>1.803297</td>\n",
       "      <td>Pass</td>\n",
       "    </tr>\n",
       "    <tr>\n",
       "      <th>2391</th>\n",
       "      <td>Female</td>\n",
       "      <td>Caucasian</td>\n",
       "      <td>17.819907</td>\n",
       "      <td>13</td>\n",
       "      <td>2.140014</td>\n",
       "      <td>Pass</td>\n",
       "    </tr>\n",
       "  </tbody>\n",
       "</table>\n",
       "<p>2392 rows × 6 columns</p>\n",
       "</div>"
      ],
      "text/plain": [
       "      Gender        Ethnicity  StudyTimeWeekly  Absences       GPA Grade\n",
       "0     Female        Caucasian        19.833723         7  2.929196  Pass\n",
       "1       Male        Caucasian        15.408756         0  3.042915  Pass\n",
       "2       Male            Asian         4.210570        26  0.112602  Fail\n",
       "3     Female        Caucasian        10.028829        14  2.054218  Fail\n",
       "4     Female        Caucasian         4.672495        17  1.288061  Fail\n",
       "...      ...              ...              ...       ...       ...   ...\n",
       "2387  Female        Caucasian        10.680555         2  3.455509  Pass\n",
       "2388    Male        Caucasian         7.583217         4  3.279150  Fail\n",
       "2389  Female        Caucasian         6.805500        20  1.142333  Pass\n",
       "2390  Female  AfricanAmerican        12.416653        17  1.803297  Pass\n",
       "2391  Female        Caucasian        17.819907        13  2.140014  Pass\n",
       "\n",
       "[2392 rows x 6 columns]"
      ]
     },
     "execution_count": 5,
     "metadata": {},
     "output_type": "execute_result"
    }
   ],
   "source": [
    "dataset = pd.read_csv('Student_performance_data _2.csv')\n",
    "dataset = dataset.drop(columns=['StudentID', 'Age' , 'ParentalEducation', 'Tutoring', 'ParentalSupport', 'Extracurricular', 'Sports', 'Music', 'Volunteering'])\n",
    "dataset.rename(columns = { 'GradeClass': 'Grade'}, inplace=True)\n",
    "dataset"
   ]
  },
  {
   "cell_type": "code",
   "execution_count": 7,
   "id": "6de346cb",
   "metadata": {},
   "outputs": [
    {
     "data": {
      "text/plain": [
       "Fail    1625\n",
       "Pass     767\n",
       "Name: Grade, dtype: int64"
      ]
     },
     "execution_count": 7,
     "metadata": {},
     "output_type": "execute_result"
    }
   ],
   "source": [
    "dataset['Grade'].value_counts() \n",
    "#there is little bit of imbalanced dataset"
   ]
  },
  {
   "cell_type": "code",
   "execution_count": 8,
   "id": "6dbdd783",
   "metadata": {},
   "outputs": [],
   "source": [
    "#sns.scatterplot(data = dataset, x='StudyTimeWk', y='GPA', hue='Grade', alpha=0.7) "
   ]
  },
  {
   "cell_type": "markdown",
   "id": "35a3f435",
   "metadata": {},
   "source": [
    "#### Create Dummy Variables\n",
    "Note: if we leave Ethnicity as is the model might interpret that there is level of importance For example, 3: Other is greater than 2: Asian which is greater than 1: African American, etc. We want to avoid the relationship/level of importance and turn them into binary/dummy.\n",
    "\n",
    "Gender is good, Ethnicity needs converted, StudyTime is good, Absences is good (as more the more important it is), GPA is good, and Grade needs converted (A, B or C needs to be Pass and D & F needs to be fail"
   ]
  },
  {
   "cell_type": "code",
   "execution_count": 9,
   "id": "268e2418",
   "metadata": {},
   "outputs": [
    {
     "data": {
      "text/html": [
       "<div>\n",
       "<style scoped>\n",
       "    .dataframe tbody tr th:only-of-type {\n",
       "        vertical-align: middle;\n",
       "    }\n",
       "\n",
       "    .dataframe tbody tr th {\n",
       "        vertical-align: top;\n",
       "    }\n",
       "\n",
       "    .dataframe thead th {\n",
       "        text-align: right;\n",
       "    }\n",
       "</style>\n",
       "<table border=\"1\" class=\"dataframe\">\n",
       "  <thead>\n",
       "    <tr style=\"text-align: right;\">\n",
       "      <th></th>\n",
       "      <th>StudyTimeWeekly</th>\n",
       "      <th>Absences</th>\n",
       "      <th>GPA</th>\n",
       "      <th>Gender_Male</th>\n",
       "      <th>Ethnicity_Asian</th>\n",
       "      <th>Ethnicity_Caucasian</th>\n",
       "      <th>Ethnicity_Other</th>\n",
       "      <th>Grade_Pass</th>\n",
       "    </tr>\n",
       "  </thead>\n",
       "  <tbody>\n",
       "    <tr>\n",
       "      <th>0</th>\n",
       "      <td>19.833723</td>\n",
       "      <td>7</td>\n",
       "      <td>2.929196</td>\n",
       "      <td>0</td>\n",
       "      <td>0</td>\n",
       "      <td>1</td>\n",
       "      <td>0</td>\n",
       "      <td>1</td>\n",
       "    </tr>\n",
       "    <tr>\n",
       "      <th>1</th>\n",
       "      <td>15.408756</td>\n",
       "      <td>0</td>\n",
       "      <td>3.042915</td>\n",
       "      <td>1</td>\n",
       "      <td>0</td>\n",
       "      <td>1</td>\n",
       "      <td>0</td>\n",
       "      <td>1</td>\n",
       "    </tr>\n",
       "    <tr>\n",
       "      <th>2</th>\n",
       "      <td>4.210570</td>\n",
       "      <td>26</td>\n",
       "      <td>0.112602</td>\n",
       "      <td>1</td>\n",
       "      <td>1</td>\n",
       "      <td>0</td>\n",
       "      <td>0</td>\n",
       "      <td>0</td>\n",
       "    </tr>\n",
       "    <tr>\n",
       "      <th>3</th>\n",
       "      <td>10.028829</td>\n",
       "      <td>14</td>\n",
       "      <td>2.054218</td>\n",
       "      <td>0</td>\n",
       "      <td>0</td>\n",
       "      <td>1</td>\n",
       "      <td>0</td>\n",
       "      <td>0</td>\n",
       "    </tr>\n",
       "    <tr>\n",
       "      <th>4</th>\n",
       "      <td>4.672495</td>\n",
       "      <td>17</td>\n",
       "      <td>1.288061</td>\n",
       "      <td>0</td>\n",
       "      <td>0</td>\n",
       "      <td>1</td>\n",
       "      <td>0</td>\n",
       "      <td>0</td>\n",
       "    </tr>\n",
       "    <tr>\n",
       "      <th>...</th>\n",
       "      <td>...</td>\n",
       "      <td>...</td>\n",
       "      <td>...</td>\n",
       "      <td>...</td>\n",
       "      <td>...</td>\n",
       "      <td>...</td>\n",
       "      <td>...</td>\n",
       "      <td>...</td>\n",
       "    </tr>\n",
       "    <tr>\n",
       "      <th>2387</th>\n",
       "      <td>10.680555</td>\n",
       "      <td>2</td>\n",
       "      <td>3.455509</td>\n",
       "      <td>0</td>\n",
       "      <td>0</td>\n",
       "      <td>1</td>\n",
       "      <td>0</td>\n",
       "      <td>1</td>\n",
       "    </tr>\n",
       "    <tr>\n",
       "      <th>2388</th>\n",
       "      <td>7.583217</td>\n",
       "      <td>4</td>\n",
       "      <td>3.279150</td>\n",
       "      <td>1</td>\n",
       "      <td>0</td>\n",
       "      <td>1</td>\n",
       "      <td>0</td>\n",
       "      <td>0</td>\n",
       "    </tr>\n",
       "    <tr>\n",
       "      <th>2389</th>\n",
       "      <td>6.805500</td>\n",
       "      <td>20</td>\n",
       "      <td>1.142333</td>\n",
       "      <td>0</td>\n",
       "      <td>0</td>\n",
       "      <td>1</td>\n",
       "      <td>0</td>\n",
       "      <td>1</td>\n",
       "    </tr>\n",
       "    <tr>\n",
       "      <th>2390</th>\n",
       "      <td>12.416653</td>\n",
       "      <td>17</td>\n",
       "      <td>1.803297</td>\n",
       "      <td>0</td>\n",
       "      <td>0</td>\n",
       "      <td>0</td>\n",
       "      <td>0</td>\n",
       "      <td>1</td>\n",
       "    </tr>\n",
       "    <tr>\n",
       "      <th>2391</th>\n",
       "      <td>17.819907</td>\n",
       "      <td>13</td>\n",
       "      <td>2.140014</td>\n",
       "      <td>0</td>\n",
       "      <td>0</td>\n",
       "      <td>1</td>\n",
       "      <td>0</td>\n",
       "      <td>1</td>\n",
       "    </tr>\n",
       "  </tbody>\n",
       "</table>\n",
       "<p>2392 rows × 8 columns</p>\n",
       "</div>"
      ],
      "text/plain": [
       "      StudyTimeWeekly  Absences       GPA  Gender_Male  Ethnicity_Asian  \\\n",
       "0           19.833723         7  2.929196            0                0   \n",
       "1           15.408756         0  3.042915            1                0   \n",
       "2            4.210570        26  0.112602            1                1   \n",
       "3           10.028829        14  2.054218            0                0   \n",
       "4            4.672495        17  1.288061            0                0   \n",
       "...               ...       ...       ...          ...              ...   \n",
       "2387        10.680555         2  3.455509            0                0   \n",
       "2388         7.583217         4  3.279150            1                0   \n",
       "2389         6.805500        20  1.142333            0                0   \n",
       "2390        12.416653        17  1.803297            0                0   \n",
       "2391        17.819907        13  2.140014            0                0   \n",
       "\n",
       "      Ethnicity_Caucasian  Ethnicity_Other  Grade_Pass  \n",
       "0                       1                0           1  \n",
       "1                       1                0           1  \n",
       "2                       0                0           0  \n",
       "3                       1                0           0  \n",
       "4                       1                0           0  \n",
       "...                   ...              ...         ...  \n",
       "2387                    1                0           1  \n",
       "2388                    1                0           0  \n",
       "2389                    1                0           1  \n",
       "2390                    0                0           1  \n",
       "2391                    1                0           1  \n",
       "\n",
       "[2392 rows x 8 columns]"
      ]
     },
     "execution_count": 9,
     "metadata": {},
     "output_type": "execute_result"
    }
   ],
   "source": [
    "df = pd.get_dummies(dataset, drop_first=True) #To avoid multicollinearity (especially useful for regression models)\n",
    "df = pd.concat([df], axis=1)\n",
    "df"
   ]
  },
  {
   "cell_type": "markdown",
   "id": "6a8c5641",
   "metadata": {},
   "source": [
    "#### Separate X features & y labels"
   ]
  },
  {
   "cell_type": "code",
   "execution_count": 10,
   "id": "b794c7b1",
   "metadata": {},
   "outputs": [],
   "source": [
    "X = df.iloc[:, :-1].values\n",
    "y = df.iloc[:, -1].values"
   ]
  },
  {
   "cell_type": "markdown",
   "id": "d093259e",
   "metadata": {},
   "source": [
    "#### SPLIT into Training & Test set"
   ]
  },
  {
   "cell_type": "code",
   "execution_count": 11,
   "id": "09b1576a",
   "metadata": {},
   "outputs": [],
   "source": [
    "from sklearn.model_selection import train_test_split\n",
    "X_train, X_test, y_train, y_test = train_test_split(X, y, test_size = 0.2, random_state = 0)"
   ]
  },
  {
   "cell_type": "markdown",
   "id": "cefa24eb",
   "metadata": {},
   "source": [
    "#### Feature Scaling (Standard Scaler)"
   ]
  },
  {
   "cell_type": "code",
   "execution_count": 12,
   "id": "6f92cb47",
   "metadata": {},
   "outputs": [],
   "source": [
    "from sklearn.preprocessing import StandardScaler #Always scale for KNN because it is using distance\n",
    "scaler = StandardScaler()\n",
    "\n",
    "scaled_X_train = scaler.fit_transform(X_train)\n",
    "scaled_X_test = scaler.transform(X_test)"
   ]
  },
  {
   "cell_type": "markdown",
   "id": "5213fb7e",
   "metadata": {},
   "source": [
    "#### TRAIN the model"
   ]
  },
  {
   "cell_type": "code",
   "execution_count": 13,
   "id": "e7f28b6d",
   "metadata": {},
   "outputs": [
    {
     "data": {
      "text/plain": [
       "KNeighborsClassifier()"
      ]
     },
     "execution_count": 13,
     "metadata": {},
     "output_type": "execute_result"
    }
   ],
   "source": [
    "from sklearn.neighbors import KNeighborsClassifier\n",
    "model = KNeighborsClassifier(n_neighbors=5, metric='minkowski', p=2 )  #all of these are default values anyway\n",
    "model.fit(scaled_X_train, y_train)"
   ]
  },
  {
   "cell_type": "markdown",
   "id": "1219c345",
   "metadata": {},
   "source": [
    "#### TEST the model"
   ]
  },
  {
   "cell_type": "code",
   "execution_count": 14,
   "id": "5e1fcd4d",
   "metadata": {},
   "outputs": [
    {
     "name": "stderr",
     "output_type": "stream",
     "text": [
      "C:\\Users\\btemo\\anaconda3\\lib\\site-packages\\sklearn\\neighbors\\_classification.py:228: FutureWarning: Unlike other reduction functions (e.g. `skew`, `kurtosis`), the default behavior of `mode` typically preserves the axis it acts along. In SciPy 1.11.0, this behavior will change: the default value of `keepdims` will become False, the `axis` over which the statistic is taken will be eliminated, and the value None will no longer be accepted. Set `keepdims` to True or False to avoid this warning.\n",
      "  mode, _ = stats.mode(_y[neigh_ind, k], axis=1)\n"
     ]
    },
    {
     "data": {
      "text/html": [
       "<div>\n",
       "<style scoped>\n",
       "    .dataframe tbody tr th:only-of-type {\n",
       "        vertical-align: middle;\n",
       "    }\n",
       "\n",
       "    .dataframe tbody tr th {\n",
       "        vertical-align: top;\n",
       "    }\n",
       "\n",
       "    .dataframe thead th {\n",
       "        text-align: right;\n",
       "    }\n",
       "</style>\n",
       "<table border=\"1\" class=\"dataframe\">\n",
       "  <thead>\n",
       "    <tr style=\"text-align: right;\">\n",
       "      <th></th>\n",
       "      <th>y_test</th>\n",
       "      <th>y_pred</th>\n",
       "    </tr>\n",
       "  </thead>\n",
       "  <tbody>\n",
       "    <tr>\n",
       "      <th>24</th>\n",
       "      <td>0</td>\n",
       "      <td>0</td>\n",
       "    </tr>\n",
       "    <tr>\n",
       "      <th>310</th>\n",
       "      <td>0</td>\n",
       "      <td>0</td>\n",
       "    </tr>\n",
       "    <tr>\n",
       "      <th>331</th>\n",
       "      <td>1</td>\n",
       "      <td>1</td>\n",
       "    </tr>\n",
       "    <tr>\n",
       "      <th>401</th>\n",
       "      <td>1</td>\n",
       "      <td>1</td>\n",
       "    </tr>\n",
       "    <tr>\n",
       "      <th>408</th>\n",
       "      <td>0</td>\n",
       "      <td>0</td>\n",
       "    </tr>\n",
       "  </tbody>\n",
       "</table>\n",
       "</div>"
      ],
      "text/plain": [
       "     y_test  y_pred\n",
       "24        0       0\n",
       "310       0       0\n",
       "331       1       1\n",
       "401       1       1\n",
       "408       0       0"
      ]
     },
     "execution_count": 14,
     "metadata": {},
     "output_type": "execute_result"
    }
   ],
   "source": [
    "y_pred = model.predict(scaled_X_test)\n",
    "new_df = pd.DataFrame({'y_test': y_test, 'y_pred': y_pred})\n",
    "new_df.sample(5)"
   ]
  },
  {
   "cell_type": "markdown",
   "id": "5935c032",
   "metadata": {},
   "source": [
    "#### EVAULATE the model"
   ]
  },
  {
   "cell_type": "code",
   "execution_count": 15,
   "id": "6cca5dc0",
   "metadata": {},
   "outputs": [
    {
     "name": "stdout",
     "output_type": "stream",
     "text": [
      "Accuracy Score: 0.906054279749478\n",
      "Precision Score: 0.9055966254323373\n",
      "Recall Score: 0.906054279749478\n",
      "F1 Score: 0.9048046049883797\n"
     ]
    }
   ],
   "source": [
    "from sklearn.metrics import accuracy_score, confusion_matrix, classification_report, precision_score, recall_score, f1_score\n",
    "\n",
    "# model.coef_ ----does not involve learning a set of parameters or coefficients from the training data\n",
    "\n",
    "print(f'Accuracy Score: {accuracy_score(y_test, y_pred)}')\n",
    "print(f\"Precision Score: {precision_score(y_test, y_pred, average='weighted')}\")\n",
    "print(f\"Recall Score: {recall_score(y_test, y_pred, average='weighted')}\")\n",
    "print(f\"F1 Score: {f1_score(y_test, y_pred, average='weighted')}\")\n",
    "\n",
    "#Darn not the best model, recall is close but precision is not. Definitely we work with imbalanced data"
   ]
  },
  {
   "cell_type": "code",
   "execution_count": 16,
   "id": "21a14888",
   "metadata": {},
   "outputs": [
    {
     "name": "stderr",
     "output_type": "stream",
     "text": [
      "C:\\Users\\btemo\\anaconda3\\lib\\site-packages\\sklearn\\utils\\deprecation.py:87: FutureWarning: Function plot_confusion_matrix is deprecated; Function `plot_confusion_matrix` is deprecated in 1.0 and will be removed in 1.2. Use one of the class methods: ConfusionMatrixDisplay.from_predictions or ConfusionMatrixDisplay.from_estimator.\n",
      "  warnings.warn(msg, category=FutureWarning)\n",
      "C:\\Users\\btemo\\anaconda3\\lib\\site-packages\\sklearn\\neighbors\\_classification.py:228: FutureWarning: Unlike other reduction functions (e.g. `skew`, `kurtosis`), the default behavior of `mode` typically preserves the axis it acts along. In SciPy 1.11.0, this behavior will change: the default value of `keepdims` will become False, the `axis` over which the statistic is taken will be eliminated, and the value None will no longer be accepted. Set `keepdims` to True or False to avoid this warning.\n",
      "  mode, _ = stats.mode(_y[neigh_ind, k], axis=1)\n"
     ]
    },
    {
     "data": {
      "image/png": "[encoded data removed]",
      "text/plain": [
       "<Figure size 200x200 with 2 Axes>"
      ]
     },
     "metadata": {},
     "output_type": "display_data"
    }
   ],
   "source": [
    "from sklearn.metrics import plot_confusion_matrix\n",
    "\n",
    "plot_confusion_matrix(model, scaled_X_test, y_test).figure_.set_size_inches(2, 2)"
   ]
  },
  {
   "cell_type": "code",
   "execution_count": 17,
   "id": "20e7d88e",
   "metadata": {},
   "outputs": [
    {
     "data": {
      "text/plain": [
       "array([[305,  15],\n",
       "       [ 30, 129]], dtype=int64)"
      ]
     },
     "execution_count": 17,
     "metadata": {},
     "output_type": "execute_result"
    }
   ],
   "source": [
    "confusion_matrix(y_test, y_pred)"
   ]
  },
  {
   "cell_type": "code",
   "execution_count": 19,
   "id": "20173cfc",
   "metadata": {},
   "outputs": [
    {
     "data": {
      "text/html": [
       "<div>\n",
       "<style scoped>\n",
       "    .dataframe tbody tr th:only-of-type {\n",
       "        vertical-align: middle;\n",
       "    }\n",
       "\n",
       "    .dataframe tbody tr th {\n",
       "        vertical-align: top;\n",
       "    }\n",
       "\n",
       "    .dataframe thead th {\n",
       "        text-align: right;\n",
       "    }\n",
       "</style>\n",
       "<table border=\"1\" class=\"dataframe\">\n",
       "  <thead>\n",
       "    <tr style=\"text-align: right;\">\n",
       "      <th></th>\n",
       "      <th>y_test</th>\n",
       "      <th>y_pred</th>\n",
       "      <th>PercentChance0Class</th>\n",
       "      <th>PercentChance1Class</th>\n",
       "    </tr>\n",
       "  </thead>\n",
       "  <tbody>\n",
       "    <tr>\n",
       "      <th>0</th>\n",
       "      <td>0</td>\n",
       "      <td>0</td>\n",
       "      <td>0.6</td>\n",
       "      <td>0.4</td>\n",
       "    </tr>\n",
       "    <tr>\n",
       "      <th>1</th>\n",
       "      <td>1</td>\n",
       "      <td>1</td>\n",
       "      <td>0.2</td>\n",
       "      <td>0.8</td>\n",
       "    </tr>\n",
       "    <tr>\n",
       "      <th>2</th>\n",
       "      <td>0</td>\n",
       "      <td>0</td>\n",
       "      <td>1.0</td>\n",
       "      <td>0.0</td>\n",
       "    </tr>\n",
       "    <tr>\n",
       "      <th>3</th>\n",
       "      <td>0</td>\n",
       "      <td>0</td>\n",
       "      <td>1.0</td>\n",
       "      <td>0.0</td>\n",
       "    </tr>\n",
       "    <tr>\n",
       "      <th>4</th>\n",
       "      <td>1</td>\n",
       "      <td>1</td>\n",
       "      <td>0.0</td>\n",
       "      <td>1.0</td>\n",
       "    </tr>\n",
       "    <tr>\n",
       "      <th>...</th>\n",
       "      <td>...</td>\n",
       "      <td>...</td>\n",
       "      <td>...</td>\n",
       "      <td>...</td>\n",
       "    </tr>\n",
       "    <tr>\n",
       "      <th>474</th>\n",
       "      <td>0</td>\n",
       "      <td>0</td>\n",
       "      <td>1.0</td>\n",
       "      <td>0.0</td>\n",
       "    </tr>\n",
       "    <tr>\n",
       "      <th>475</th>\n",
       "      <td>0</td>\n",
       "      <td>0</td>\n",
       "      <td>1.0</td>\n",
       "      <td>0.0</td>\n",
       "    </tr>\n",
       "    <tr>\n",
       "      <th>476</th>\n",
       "      <td>0</td>\n",
       "      <td>0</td>\n",
       "      <td>0.8</td>\n",
       "      <td>0.2</td>\n",
       "    </tr>\n",
       "    <tr>\n",
       "      <th>477</th>\n",
       "      <td>0</td>\n",
       "      <td>0</td>\n",
       "      <td>1.0</td>\n",
       "      <td>0.0</td>\n",
       "    </tr>\n",
       "    <tr>\n",
       "      <th>478</th>\n",
       "      <td>0</td>\n",
       "      <td>0</td>\n",
       "      <td>0.6</td>\n",
       "      <td>0.4</td>\n",
       "    </tr>\n",
       "  </tbody>\n",
       "</table>\n",
       "<p>479 rows × 4 columns</p>\n",
       "</div>"
      ],
      "text/plain": [
       "     y_test  y_pred  PercentChance0Class  PercentChance1Class\n",
       "0         0       0                  0.6                  0.4\n",
       "1         1       1                  0.2                  0.8\n",
       "2         0       0                  1.0                  0.0\n",
       "3         0       0                  1.0                  0.0\n",
       "4         1       1                  0.0                  1.0\n",
       "..      ...     ...                  ...                  ...\n",
       "474       0       0                  1.0                  0.0\n",
       "475       0       0                  1.0                  0.0\n",
       "476       0       0                  0.8                  0.2\n",
       "477       0       0                  1.0                  0.0\n",
       "478       0       0                  0.6                  0.4\n",
       "\n",
       "[479 rows x 4 columns]"
      ]
     },
     "execution_count": 19,
     "metadata": {},
     "output_type": "execute_result"
    }
   ],
   "source": [
    "# can also predict probability for a point, not just for the class (1, or 0)\n",
    "probability_data = model.predict_proba(scaled_X_test)\n",
    "new_df['PercentChance0Class'] = probability_data[:, 0]\n",
    "new_df['PercentChance1Class'] = probability_data[:, 1]\n",
    "\n",
    "new_df\n",
    "\n",
    "#for row 1\n",
    "# there is 60% chance of belonging to class 0 & 40% of belonging to class 1\n",
    "# and it predicted correctly"
   ]
  },
  {
   "cell_type": "markdown",
   "id": "6dc571f3",
   "metadata": {},
   "source": [
    "#### Visualize the model"
   ]
  },
  {
   "cell_type": "code",
   "execution_count": 20,
   "id": "0b774147",
   "metadata": {},
   "outputs": [
    {
     "data": {
      "image/png": "[encoded data removed]",
      "text/plain": [
       "<Figure size 800x400 with 1 Axes>"
      ]
     },
     "metadata": {},
     "output_type": "display_data"
    }
   ],
   "source": [
    "plt.figure(figsize=(8, 4))\n",
    "\n",
    "sns.kdeplot(y_test, label='Actual', shade=True)\n",
    "sns.kdeplot(y_pred, label='Predicted', shade=True)\n",
    "\n",
    "plt.title('Actual and Predicted values')\n",
    "plt.xlabel('Class')\n",
    "plt.ylabel('Density/Frequency')\n",
    "plt.legend()\n",
    "plt.show()\n",
    "\n",
    "# y_test & y_pred mostly overlap, good model"
   ]
  },
  {
   "cell_type": "code",
   "execution_count": 23,
   "id": "3f5dbfaf",
   "metadata": {},
   "outputs": [
    {
     "data": {
      "image/png": "[encoded data removed]",
      "text/plain": [
       "<Figure size 500x200 with 1 Axes>"
      ]
     },
     "metadata": {},
     "output_type": "display_data"
    }
   ],
   "source": [
    "# Combine y_test and y_pred into a single DataFrame\n",
    "comparison_df = pd.DataFrame({'Actual': y_test, 'Predicted': y_pred})\n",
    "\n",
    "# Plot the counts of each class\n",
    "plt.figure(figsize=(5, 2))\n",
    "plot = sns.countplot(y='variable', hue='value', data=pd.melt(comparison_df))\n",
    "\n",
    "# Add counts on top of the bars\n",
    "for p in plot.patches:\n",
    "    plot.annotate(format(p.get_width(), '.0f'), \n",
    "                  (p.get_width(), p.get_y() + p.get_height() / 2.), \n",
    "                  ha = 'center', va = 'center', \n",
    "                  xytext = (9, 0), \n",
    "                  textcoords = 'offset points')\n",
    "\n",
    "plt.legend(title='Value', bbox_to_anchor=(1.05, 1), loc='upper left')\n",
    "plt.grid(True, linestyle='--', alpha=0.7)\n",
    "plt.title('Count of Actual and Predicted Classes')\n",
    "plt.ylabel('Class')\n",
    "plt.xlabel('Count')\n",
    "plt.show()"
   ]
  },
  {
   "cell_type": "markdown",
   "id": "3619bdc5",
   "metadata": {},
   "source": [
    "#### Predict new student"
   ]
  },
  {
   "cell_type": "code",
   "execution_count": 24,
   "id": "77f745d7",
   "metadata": {},
   "outputs": [
    {
     "name": "stdout",
     "output_type": "stream",
     "text": [
      "[1]\n",
      "[[0. 1.]]\n"
     ]
    },
    {
     "name": "stderr",
     "output_type": "stream",
     "text": [
      "C:\\Users\\btemo\\anaconda3\\lib\\site-packages\\sklearn\\neighbors\\_classification.py:228: FutureWarning: Unlike other reduction functions (e.g. `skew`, `kurtosis`), the default behavior of `mode` typically preserves the axis it acts along. In SciPy 1.11.0, this behavior will change: the default value of `keepdims` will become False, the `axis` over which the statistic is taken will be eliminated, and the value None will no longer be accepted. Set `keepdims` to True or False to avoid this warning.\n",
      "  mode, _ = stats.mode(_y[neigh_ind, k], axis=1)\n"
     ]
    }
   ],
   "source": [
    "print(model.predict(scaler.transform([[14, 2, 3.4, 0, 0, 1, 0]])))\n",
    "# if a student spends 14 hours Studying Weekly, it is Absence 2x, has GPA of 3.4, is female, caucasian then the student will Pass\n",
    "print(model.predict_proba(scaler.transform([[14, 2, 3.4, 0, 0, 1, 0]])))\n",
    "#the model is 0% sure that this new student belongs to class 0, and 100% sure that it will pass"
   ]
  },
  {
   "cell_type": "code",
   "execution_count": 25,
   "id": "b49ed728",
   "metadata": {},
   "outputs": [
    {
     "name": "stdout",
     "output_type": "stream",
     "text": [
      "[0]\n",
      "[[1. 0.]]\n"
     ]
    },
    {
     "name": "stderr",
     "output_type": "stream",
     "text": [
      "C:\\Users\\btemo\\anaconda3\\lib\\site-packages\\sklearn\\neighbors\\_classification.py:228: FutureWarning: Unlike other reduction functions (e.g. `skew`, `kurtosis`), the default behavior of `mode` typically preserves the axis it acts along. In SciPy 1.11.0, this behavior will change: the default value of `keepdims` will become False, the `axis` over which the statistic is taken will be eliminated, and the value None will no longer be accepted. Set `keepdims` to True or False to avoid this warning.\n",
      "  mode, _ = stats.mode(_y[neigh_ind, k], axis=1)\n"
     ]
    }
   ],
   "source": [
    "print(model.predict(scaler.transform([[14, 2, 1.0, 0, 0, 1, 0]])))\n",
    "# if a student spends 14 hours Studying Weekly, it is Absence 2x, has GPA of 1.0, is female, caucasian then the student will Fail\n",
    "print(model.predict_proba(scaler.transform([[14, 2, 1.0, 0, 0, 1, 0]])))\n",
    "#the model is 100% sure that this new student will Fail, and 0% sure that it will pass"
   ]
  },
  {
   "cell_type": "markdown",
   "id": "1345502b",
   "metadata": {},
   "source": [
    "- Age - The age of the students ranges from 15 to 18 years.\n",
    "- Gender - Gender of the students, where 0 represents Male and 1 represents Female.\n",
    "- Ethnicity - The ethnicity of the students: 0: Caucasian, 1: African American, 2: Asian, 3: Other\n",
    "- ParentalEducation - 0: None, 1: High School, 2: Some College, 3: Bachelor's, 4: Higher, \n",
    "- StudyTimeWeekly - Weekly study time in hours, ranging from 0 to 20.\n",
    "- Absences - Number of absences during the school year, ranging from 0 to 30.\n",
    "- Tutoring - Tutoring status, where 0 indicates No and 1 indicates Yes.\n",
    "- ParentalSupport - 0: None, 1: Low, 2: Moderate, 3: High, 4: Very High\n",
    "- Extracurricular - Participation in extracurricular activities, where 0 indicates No and 1 indicates Yes.\n",
    "- Sports - Participation in sports, where 0 indicates No and 1 indicates Yes.\n",
    "- Music - Participation in music activities, where 0 indicates No and 1 indicates Yes.\n",
    "- Volunteering - Participation in volunteering, where 0 indicates No and 1 indicates Yes.\n",
    "- GPA - Grade Point Average on a scale from 2.0 to 4.0, influenced by study habits, parental involvement, and extracurricular activities.\n",
    "- Target Variable Grade Class - 0: 'A' (GPA >= 3.5), 1: 'B' (3.0 <= GPA < 3.5), 2: 'C' (2.5 <= GPA < 3.0), 3: 'D' (2.0 <= GPA < 2.5), 4: 'F' (GPA < 2.0)"
   ]
  },
  {
   "cell_type": "markdown",
   "id": "9c1d31de",
   "metadata": {},
   "source": [
    "#### Elbow method\n",
    "Huge difference in class 2. Not a terrible model, but perhaps the Elbow method will tell us how many Ks to use"
   ]
  },
  {
   "cell_type": "code",
   "execution_count": 26,
   "id": "11b787e3",
   "metadata": {},
   "outputs": [
    {
     "data": {
      "text/plain": [
       "Text(0, 0.5, 'Error Rate')"
      ]
     },
     "execution_count": 26,
     "metadata": {},
     "output_type": "execute_result"
    },
    {
     "data": {
      "image/png": "[encoded data removed]",
      "text/plain": [
       "<Figure size 640x480 with 1 Axes>"
      ]
     },
     "metadata": {},
     "output_type": "display_data"
    }
   ],
   "source": [
    "import warnings\n",
    "warnings.simplefilter(action='ignore', category=FutureWarning)\n",
    "\n",
    "test_error_rates = []\n",
    "\n",
    "for k in range(1, 30):\n",
    "    knn_model = KNeighborsClassifier(n_neighbors=k)\n",
    "    knn_model.fit(scaled_X_train, y_train)\n",
    "    \n",
    "    y_pred_test = knn_model.predict(scaled_X_test)\n",
    "    test_error = 1 - accuracy_score(y_test, y_pred_test)\n",
    "    \n",
    "    test_error_rates.append(test_error)\n",
    "    \n",
    "    \n",
    "#visualize the elbow method\n",
    "plt.plot(range(1, 30), test_error_rates)\n",
    "plt.xlabel('K')\n",
    "plt.ylabel('Error Rate')\n",
    "\n",
    "# it seems that k=5 is the number, as the rest increase the error rate"
   ]
  },
  {
   "cell_type": "markdown",
   "id": "18c31c3b",
   "metadata": {},
   "source": [
    "Well it says to use 5, and that is the default parameter"
   ]
  },
  {
   "cell_type": "code",
   "execution_count": null,
   "id": "8efe5ea6",
   "metadata": {},
   "outputs": [],
   "source": []
  },
  {
   "cell_type": "code",
   "execution_count": null,
   "id": "cead7bed",
   "metadata": {},
   "outputs": [],
   "source": []
  },
  {
   "cell_type": "markdown",
   "id": "f5fc6b5e",
   "metadata": {},
   "source": [
    "#### Set up GridSearch Cross Validation process to tell you what is the optimal number of k"
   ]
  },
  {
   "cell_type": "code",
   "execution_count": 27,
   "id": "58ab0754",
   "metadata": {},
   "outputs": [
    {
     "data": {
      "text/plain": [
       "GridSearchCV(cv=5,\n",
       "             estimator=Pipeline(steps=[('scaler', StandardScaler()),\n",
       "                                       ('knn', KNeighborsClassifier())]),\n",
       "             param_grid={'knn__n_neighbors': [1, 2, 3, 4, 5, 6, 7, 8, 9, 10, 11,\n",
       "                                              12, 13, 14, 15, 16, 17, 18, 19]},\n",
       "             scoring='accuracy')"
      ]
     },
     "execution_count": 27,
     "metadata": {},
     "output_type": "execute_result"
    }
   ],
   "source": [
    "scaler = StandardScaler()\n",
    "knn = KNeighborsClassifier()\n",
    "\n",
    "operations = [('scaler', scaler), ('knn', knn)]\n",
    "\n",
    "from sklearn.pipeline import Pipeline\n",
    "pipe = Pipeline(operations)\n",
    "\n",
    "from sklearn.model_selection import GridSearchCV\n",
    "k_values = list(range(1, 20))\n",
    "\n",
    "param_grid = {'knn__n_neighbors': k_values}\n",
    "\n",
    "full_cv_classifier = GridSearchCV(pipe, param_grid, cv=5, scoring='accuracy')\n",
    "full_cv_classifier.fit(X_train, y_train) #no need to scale it"
   ]
  },
  {
   "cell_type": "code",
   "execution_count": 28,
   "id": "33e3bc0a",
   "metadata": {},
   "outputs": [
    {
     "data": {
      "text/plain": [
       "{'memory': None,\n",
       " 'steps': [('scaler', StandardScaler()), ('knn', KNeighborsClassifier())],\n",
       " 'verbose': False,\n",
       " 'scaler': StandardScaler(),\n",
       " 'knn': KNeighborsClassifier(),\n",
       " 'scaler__copy': True,\n",
       " 'scaler__with_mean': True,\n",
       " 'scaler__with_std': True,\n",
       " 'knn__algorithm': 'auto',\n",
       " 'knn__leaf_size': 30,\n",
       " 'knn__metric': 'minkowski',\n",
       " 'knn__metric_params': None,\n",
       " 'knn__n_jobs': None,\n",
       " 'knn__n_neighbors': 5,\n",
       " 'knn__p': 2,\n",
       " 'knn__weights': 'uniform'}"
      ]
     },
     "execution_count": 28,
     "metadata": {},
     "output_type": "execute_result"
    }
   ],
   "source": [
    "full_cv_classifier.best_estimator_.get_params()\n",
    "#note below says knn_n_neighbors it chose 5 as the number of k"
   ]
  },
  {
   "cell_type": "code",
   "execution_count": 29,
   "id": "87b4ae52",
   "metadata": {},
   "outputs": [
    {
     "name": "stdout",
     "output_type": "stream",
     "text": [
      "Accuracy Score: 0.906054279749478\n",
      "Precision Score: 0.9055966254323373\n",
      "Recall Score: 0.906054279749478\n",
      "F1 Score: 0.9048046049883797\n"
     ]
    }
   ],
   "source": [
    "full_pred = full_cv_classifier.predict(X_test)\n",
    "print(f'Accuracy Score: {accuracy_score(y_test, full_pred)}')\n",
    "print(f\"Precision Score: {precision_score(y_test, full_pred, average='weighted')}\")\n",
    "print(f\"Recall Score: {recall_score(y_test, full_pred, average='weighted')}\")\n",
    "print(f\"F1 Score: {f1_score(y_test, full_pred, average='weighted')}\")"
   ]
  },
  {
   "cell_type": "code",
   "execution_count": 30,
   "id": "2dcc54cc",
   "metadata": {},
   "outputs": [],
   "source": [
    "#Results from model 1\n",
    "\n",
    "#Accuracy Score: 0.906054279749478\n",
    "#Precision Score: 0.9055966254323373\n",
    "#Recall Score: 0.906054279749478\n",
    "#F1 Score: 0.9048046049883797\n",
    "\n",
    "#OK the default parameters were good enough"
   ]
  },
  {
   "cell_type": "code",
   "execution_count": null,
   "id": "15383b29",
   "metadata": {},
   "outputs": [],
   "source": []
  }
 ],
 "metadata": {
  "kernelspec": {
   "display_name": "Python 3 (ipykernel)",
   "language": "python",
   "name": "python3"
  },
  "language_info": {
   "codemirror_mode": {
    "name": "ipython",
    "version": 3
   },
   "file_extension": ".py",
   "mimetype": "text/x-python",
   "name": "python",
   "nbconvert_exporter": "python",
   "pygments_lexer": "ipython3",
   "version": "3.9.18"
  }
 },
 "nbformat": 4,
 "nbformat_minor": 5
}
