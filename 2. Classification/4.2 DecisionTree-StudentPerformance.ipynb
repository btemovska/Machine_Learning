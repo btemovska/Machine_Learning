{
 "cells": [
  {
   "cell_type": "markdown",
   "id": "e8b74c35",
   "metadata": {},
   "source": [
    "#### Data comes from Kaggle https://www.kaggle.com/datasets/rabieelkharoua/students-performance-dataset\n",
    "\n",
    "- StudentID - A unique identifier assigned to each student (1001 to 3392).\n",
    "- Age - The age of the students ranges from 15 to 18 years.\n",
    "- Gender - Gender of the students, where 0 represents Male and 1 represents Female.\n",
    "- Ethnicity - The ethnicity of the students: 0: Caucasian, 1: African American, 2: Asian, 3: Other\n",
    "- ParentalEducation - 0: None, 1: High School, 2: Some College, 3: Bachelor's, 4: Higher, \n",
    "- StudyTimeWeekly - Weekly study time in hours, ranging from 0 to 20.\n",
    "- Absences - Number of absences during the school year, ranging from 0 to 30.\n",
    "- Tutoring - Tutoring status, where 0 indicates No and 1 indicates Yes.\n",
    "- ParentalSupport - 0: None, 1: Low, 2: Moderate, 3: High, 4: Very High\n",
    "- Extracurricular - Participation in extracurricular activities, where 0 indicates No and 1 indicates Yes.\n",
    "- Sports - Participation in sports, where 0 indicates No and 1 indicates Yes.\n",
    "- Music - Participation in music activities, where 0 indicates No and 1 indicates Yes.\n",
    "- Volunteering - Participation in volunteering, where 0 indicates No and 1 indicates Yes.\n",
    "- GPA - Grade Point Average on a scale from 2.0 to 4.0, influenced by study habits, parental involvement, and extracurricular activities.\n",
    "- Target Variable Grade Class - 0: 'A' (GPA >= 3.5), 1: 'B' (3.0 <= GPA < 3.5), 2: 'C' (2.5 <= GPA < 3.0), 3: 'D' (2.0 <= GPA < 2.5), 4: 'F' (GPA < 2.0)\n",
    "\n",
    "Note I've turn some columns into categorical, and only kept few of them for cleanliness while learning. Also while practicing it was the GPA by far the only important feature for predictions anyways."
   ]
  },
  {
   "cell_type": "markdown",
   "id": "276eb2b6",
   "metadata": {},
   "source": [
    "#### Import library"
   ]
  },
  {
   "cell_type": "code",
   "execution_count": 16,
   "id": "af65a49b",
   "metadata": {},
   "outputs": [],
   "source": [
    "import numpy as np\n",
    "import pandas as pd\n",
    "import seaborn as sns\n",
    "import matplotlib.pyplot as plt"
   ]
  },
  {
   "cell_type": "code",
   "execution_count": 17,
   "id": "8bc361ab",
   "metadata": {},
   "outputs": [
    {
     "data": {
      "text/html": [
       "<style>.container { width:95% !important; }</style>"
      ],
      "text/plain": [
       "<IPython.core.display.HTML object>"
      ]
     },
     "metadata": {},
     "output_type": "display_data"
    }
   ],
   "source": [
    "from IPython.core.display import display, HTML\n",
    "\n",
    "display(HTML(\"<style>.container { width:95% !important; }</style>\"))"
   ]
  },
  {
   "cell_type": "markdown",
   "id": "d743a4ee",
   "metadata": {},
   "source": [
    "#### Import dataset"
   ]
  },
  {
   "cell_type": "code",
   "execution_count": 38,
   "id": "ffaa8257",
   "metadata": {},
   "outputs": [
    {
     "data": {
      "text/html": [
       "<div>\n",
       "<style scoped>\n",
       "    .dataframe tbody tr th:only-of-type {\n",
       "        vertical-align: middle;\n",
       "    }\n",
       "\n",
       "    .dataframe tbody tr th {\n",
       "        vertical-align: top;\n",
       "    }\n",
       "\n",
       "    .dataframe thead th {\n",
       "        text-align: right;\n",
       "    }\n",
       "</style>\n",
       "<table border=\"1\" class=\"dataframe\">\n",
       "  <thead>\n",
       "    <tr style=\"text-align: right;\">\n",
       "      <th></th>\n",
       "      <th>Gender</th>\n",
       "      <th>Ethnicity</th>\n",
       "      <th>StudyTimeWeekly</th>\n",
       "      <th>Absences</th>\n",
       "      <th>GPA</th>\n",
       "      <th>Grade</th>\n",
       "    </tr>\n",
       "  </thead>\n",
       "  <tbody>\n",
       "    <tr>\n",
       "      <th>0</th>\n",
       "      <td>Female</td>\n",
       "      <td>Caucasian</td>\n",
       "      <td>19.833723</td>\n",
       "      <td>7</td>\n",
       "      <td>2.929196</td>\n",
       "      <td>Pass</td>\n",
       "    </tr>\n",
       "    <tr>\n",
       "      <th>1</th>\n",
       "      <td>Male</td>\n",
       "      <td>Caucasian</td>\n",
       "      <td>15.408756</td>\n",
       "      <td>0</td>\n",
       "      <td>3.042915</td>\n",
       "      <td>Pass</td>\n",
       "    </tr>\n",
       "    <tr>\n",
       "      <th>2</th>\n",
       "      <td>Male</td>\n",
       "      <td>Asian</td>\n",
       "      <td>4.210570</td>\n",
       "      <td>26</td>\n",
       "      <td>0.112602</td>\n",
       "      <td>Fail</td>\n",
       "    </tr>\n",
       "    <tr>\n",
       "      <th>3</th>\n",
       "      <td>Female</td>\n",
       "      <td>Caucasian</td>\n",
       "      <td>10.028829</td>\n",
       "      <td>14</td>\n",
       "      <td>2.054218</td>\n",
       "      <td>Fail</td>\n",
       "    </tr>\n",
       "    <tr>\n",
       "      <th>4</th>\n",
       "      <td>Female</td>\n",
       "      <td>Caucasian</td>\n",
       "      <td>4.672495</td>\n",
       "      <td>17</td>\n",
       "      <td>1.288061</td>\n",
       "      <td>Fail</td>\n",
       "    </tr>\n",
       "    <tr>\n",
       "      <th>...</th>\n",
       "      <td>...</td>\n",
       "      <td>...</td>\n",
       "      <td>...</td>\n",
       "      <td>...</td>\n",
       "      <td>...</td>\n",
       "      <td>...</td>\n",
       "    </tr>\n",
       "    <tr>\n",
       "      <th>2387</th>\n",
       "      <td>Female</td>\n",
       "      <td>Caucasian</td>\n",
       "      <td>10.680555</td>\n",
       "      <td>2</td>\n",
       "      <td>3.455509</td>\n",
       "      <td>Pass</td>\n",
       "    </tr>\n",
       "    <tr>\n",
       "      <th>2388</th>\n",
       "      <td>Male</td>\n",
       "      <td>Caucasian</td>\n",
       "      <td>7.583217</td>\n",
       "      <td>4</td>\n",
       "      <td>3.279150</td>\n",
       "      <td>Fail</td>\n",
       "    </tr>\n",
       "    <tr>\n",
       "      <th>2389</th>\n",
       "      <td>Female</td>\n",
       "      <td>Caucasian</td>\n",
       "      <td>6.805500</td>\n",
       "      <td>20</td>\n",
       "      <td>1.142333</td>\n",
       "      <td>Pass</td>\n",
       "    </tr>\n",
       "    <tr>\n",
       "      <th>2390</th>\n",
       "      <td>Female</td>\n",
       "      <td>AfricanAmerican</td>\n",
       "      <td>12.416653</td>\n",
       "      <td>17</td>\n",
       "      <td>1.803297</td>\n",
       "      <td>Pass</td>\n",
       "    </tr>\n",
       "    <tr>\n",
       "      <th>2391</th>\n",
       "      <td>Female</td>\n",
       "      <td>Caucasian</td>\n",
       "      <td>17.819907</td>\n",
       "      <td>13</td>\n",
       "      <td>2.140014</td>\n",
       "      <td>Pass</td>\n",
       "    </tr>\n",
       "  </tbody>\n",
       "</table>\n",
       "<p>2392 rows × 6 columns</p>\n",
       "</div>"
      ],
      "text/plain": [
       "      Gender        Ethnicity  StudyTimeWeekly  Absences       GPA Grade\n",
       "0     Female        Caucasian        19.833723         7  2.929196  Pass\n",
       "1       Male        Caucasian        15.408756         0  3.042915  Pass\n",
       "2       Male            Asian         4.210570        26  0.112602  Fail\n",
       "3     Female        Caucasian        10.028829        14  2.054218  Fail\n",
       "4     Female        Caucasian         4.672495        17  1.288061  Fail\n",
       "...      ...              ...              ...       ...       ...   ...\n",
       "2387  Female        Caucasian        10.680555         2  3.455509  Pass\n",
       "2388    Male        Caucasian         7.583217         4  3.279150  Fail\n",
       "2389  Female        Caucasian         6.805500        20  1.142333  Pass\n",
       "2390  Female  AfricanAmerican        12.416653        17  1.803297  Pass\n",
       "2391  Female        Caucasian        17.819907        13  2.140014  Pass\n",
       "\n",
       "[2392 rows x 6 columns]"
      ]
     },
     "execution_count": 38,
     "metadata": {},
     "output_type": "execute_result"
    }
   ],
   "source": [
    "dataset = pd.read_csv('Student_performance_data _2.csv')\n",
    "dataset = dataset.drop(columns=['StudentID', 'Age' , 'ParentalEducation', 'Tutoring', 'ParentalSupport', 'Extracurricular', 'Sports', 'Music', 'Volunteering'])\n",
    "dataset.rename(columns = { 'GradeClass': 'Grade'}, inplace=True)\n",
    "dataset"
   ]
  },
  {
   "cell_type": "code",
   "execution_count": 30,
   "id": "6de346cb",
   "metadata": {},
   "outputs": [
    {
     "data": {
      "text/plain": [
       "Fail    1625\n",
       "Pass     767\n",
       "Name: Grade, dtype: int64"
      ]
     },
     "execution_count": 30,
     "metadata": {},
     "output_type": "execute_result"
    }
   ],
   "source": [
    "dataset['Grade'].value_counts() \n",
    "#there is little bit of imbalanced dataset"
   ]
  },
  {
   "cell_type": "code",
   "execution_count": 31,
   "id": "dc9db6ca",
   "metadata": {},
   "outputs": [
    {
     "data": {
      "text/plain": [
       "Gender             0\n",
       "Ethnicity          0\n",
       "StudyTimeWeekly    0\n",
       "Absences           0\n",
       "GPA                0\n",
       "Grade              0\n",
       "dtype: int64"
      ]
     },
     "execution_count": 31,
     "metadata": {},
     "output_type": "execute_result"
    }
   ],
   "source": [
    "dataset.isnull().sum()"
   ]
  },
  {
   "cell_type": "code",
   "execution_count": 32,
   "id": "6dbdd783",
   "metadata": {},
   "outputs": [],
   "source": [
    "# sns.scatterplot(data = dataset, x='StudyTimeWeekly', y='GPA', hue='Grade', alpha=0.7) "
   ]
  },
  {
   "cell_type": "markdown",
   "id": "58222efe",
   "metadata": {},
   "source": [
    "#### Create Dummy Variables\n",
    "Note: if we leave Ethnicity as is the model might interpret that there is level of importance For example, 3: Other is greater than 2: Asian which is greater than 1: African American, etc. We want to avoid the relationship/level of importance and turn them into binary/dummy.\n",
    "\n",
    "Gender is good, Ethnicity needs converted, StudyTime is good, Absences is good (as more the more important it is), GPA is good, and Grade needs converted (A, B or C needs to be Pass and D & F needs to be fail"
   ]
  },
  {
   "cell_type": "code",
   "execution_count": 40,
   "id": "268e2418",
   "metadata": {},
   "outputs": [
    {
     "data": {
      "text/html": [
       "<div>\n",
       "<style scoped>\n",
       "    .dataframe tbody tr th:only-of-type {\n",
       "        vertical-align: middle;\n",
       "    }\n",
       "\n",
       "    .dataframe tbody tr th {\n",
       "        vertical-align: top;\n",
       "    }\n",
       "\n",
       "    .dataframe thead th {\n",
       "        text-align: right;\n",
       "    }\n",
       "</style>\n",
       "<table border=\"1\" class=\"dataframe\">\n",
       "  <thead>\n",
       "    <tr style=\"text-align: right;\">\n",
       "      <th></th>\n",
       "      <th>StudyTimeWeekly</th>\n",
       "      <th>Absences</th>\n",
       "      <th>GPA</th>\n",
       "      <th>Gender_Male</th>\n",
       "      <th>Ethnicity_Asian</th>\n",
       "      <th>Ethnicity_Caucasian</th>\n",
       "      <th>Ethnicity_Other</th>\n",
       "      <th>Grade_Pass</th>\n",
       "    </tr>\n",
       "  </thead>\n",
       "  <tbody>\n",
       "    <tr>\n",
       "      <th>0</th>\n",
       "      <td>19.833723</td>\n",
       "      <td>7</td>\n",
       "      <td>2.929196</td>\n",
       "      <td>0</td>\n",
       "      <td>0</td>\n",
       "      <td>1</td>\n",
       "      <td>0</td>\n",
       "      <td>1</td>\n",
       "    </tr>\n",
       "    <tr>\n",
       "      <th>1</th>\n",
       "      <td>15.408756</td>\n",
       "      <td>0</td>\n",
       "      <td>3.042915</td>\n",
       "      <td>1</td>\n",
       "      <td>0</td>\n",
       "      <td>1</td>\n",
       "      <td>0</td>\n",
       "      <td>1</td>\n",
       "    </tr>\n",
       "    <tr>\n",
       "      <th>2</th>\n",
       "      <td>4.210570</td>\n",
       "      <td>26</td>\n",
       "      <td>0.112602</td>\n",
       "      <td>1</td>\n",
       "      <td>1</td>\n",
       "      <td>0</td>\n",
       "      <td>0</td>\n",
       "      <td>0</td>\n",
       "    </tr>\n",
       "    <tr>\n",
       "      <th>3</th>\n",
       "      <td>10.028829</td>\n",
       "      <td>14</td>\n",
       "      <td>2.054218</td>\n",
       "      <td>0</td>\n",
       "      <td>0</td>\n",
       "      <td>1</td>\n",
       "      <td>0</td>\n",
       "      <td>0</td>\n",
       "    </tr>\n",
       "    <tr>\n",
       "      <th>4</th>\n",
       "      <td>4.672495</td>\n",
       "      <td>17</td>\n",
       "      <td>1.288061</td>\n",
       "      <td>0</td>\n",
       "      <td>0</td>\n",
       "      <td>1</td>\n",
       "      <td>0</td>\n",
       "      <td>0</td>\n",
       "    </tr>\n",
       "    <tr>\n",
       "      <th>...</th>\n",
       "      <td>...</td>\n",
       "      <td>...</td>\n",
       "      <td>...</td>\n",
       "      <td>...</td>\n",
       "      <td>...</td>\n",
       "      <td>...</td>\n",
       "      <td>...</td>\n",
       "      <td>...</td>\n",
       "    </tr>\n",
       "    <tr>\n",
       "      <th>2387</th>\n",
       "      <td>10.680555</td>\n",
       "      <td>2</td>\n",
       "      <td>3.455509</td>\n",
       "      <td>0</td>\n",
       "      <td>0</td>\n",
       "      <td>1</td>\n",
       "      <td>0</td>\n",
       "      <td>1</td>\n",
       "    </tr>\n",
       "    <tr>\n",
       "      <th>2388</th>\n",
       "      <td>7.583217</td>\n",
       "      <td>4</td>\n",
       "      <td>3.279150</td>\n",
       "      <td>1</td>\n",
       "      <td>0</td>\n",
       "      <td>1</td>\n",
       "      <td>0</td>\n",
       "      <td>0</td>\n",
       "    </tr>\n",
       "    <tr>\n",
       "      <th>2389</th>\n",
       "      <td>6.805500</td>\n",
       "      <td>20</td>\n",
       "      <td>1.142333</td>\n",
       "      <td>0</td>\n",
       "      <td>0</td>\n",
       "      <td>1</td>\n",
       "      <td>0</td>\n",
       "      <td>1</td>\n",
       "    </tr>\n",
       "    <tr>\n",
       "      <th>2390</th>\n",
       "      <td>12.416653</td>\n",
       "      <td>17</td>\n",
       "      <td>1.803297</td>\n",
       "      <td>0</td>\n",
       "      <td>0</td>\n",
       "      <td>0</td>\n",
       "      <td>0</td>\n",
       "      <td>1</td>\n",
       "    </tr>\n",
       "    <tr>\n",
       "      <th>2391</th>\n",
       "      <td>17.819907</td>\n",
       "      <td>13</td>\n",
       "      <td>2.140014</td>\n",
       "      <td>0</td>\n",
       "      <td>0</td>\n",
       "      <td>1</td>\n",
       "      <td>0</td>\n",
       "      <td>1</td>\n",
       "    </tr>\n",
       "  </tbody>\n",
       "</table>\n",
       "<p>2392 rows × 8 columns</p>\n",
       "</div>"
      ],
      "text/plain": [
       "      StudyTimeWeekly  Absences       GPA  Gender_Male  Ethnicity_Asian  \\\n",
       "0           19.833723         7  2.929196            0                0   \n",
       "1           15.408756         0  3.042915            1                0   \n",
       "2            4.210570        26  0.112602            1                1   \n",
       "3           10.028829        14  2.054218            0                0   \n",
       "4            4.672495        17  1.288061            0                0   \n",
       "...               ...       ...       ...          ...              ...   \n",
       "2387        10.680555         2  3.455509            0                0   \n",
       "2388         7.583217         4  3.279150            1                0   \n",
       "2389         6.805500        20  1.142333            0                0   \n",
       "2390        12.416653        17  1.803297            0                0   \n",
       "2391        17.819907        13  2.140014            0                0   \n",
       "\n",
       "      Ethnicity_Caucasian  Ethnicity_Other  Grade_Pass  \n",
       "0                       1                0           1  \n",
       "1                       1                0           1  \n",
       "2                       0                0           0  \n",
       "3                       1                0           0  \n",
       "4                       1                0           0  \n",
       "...                   ...              ...         ...  \n",
       "2387                    1                0           1  \n",
       "2388                    1                0           0  \n",
       "2389                    1                0           1  \n",
       "2390                    0                0           1  \n",
       "2391                    1                0           1  \n",
       "\n",
       "[2392 rows x 8 columns]"
      ]
     },
     "execution_count": 40,
     "metadata": {},
     "output_type": "execute_result"
    }
   ],
   "source": [
    "df = pd.get_dummies(dataset, drop_first=True) #To avoid multicollinearity (especially useful for regression models)\n",
    "df = pd.concat([df], axis=1)\n",
    "df"
   ]
  },
  {
   "cell_type": "markdown",
   "id": "6a8c5641",
   "metadata": {},
   "source": [
    "#### Separate X features & y labels"
   ]
  },
  {
   "cell_type": "code",
   "execution_count": 45,
   "id": "b794c7b1",
   "metadata": {},
   "outputs": [],
   "source": [
    "X = df.iloc[:, :-1].values\n",
    "y = df.iloc[:, -1].values"
   ]
  },
  {
   "cell_type": "markdown",
   "id": "d093259e",
   "metadata": {},
   "source": [
    "#### SPLIT into Training & Test set"
   ]
  },
  {
   "cell_type": "code",
   "execution_count": 46,
   "id": "09b1576a",
   "metadata": {},
   "outputs": [],
   "source": [
    "from sklearn.model_selection import train_test_split\n",
    "X_train, X_test, y_train, y_test = train_test_split(X, y, test_size = 0.2, random_state = 0)"
   ]
  },
  {
   "cell_type": "markdown",
   "id": "cefa24eb",
   "metadata": {},
   "source": [
    "#### Feature Scaling (Standard Scaler)"
   ]
  },
  {
   "cell_type": "code",
   "execution_count": 47,
   "id": "6f92cb47",
   "metadata": {},
   "outputs": [],
   "source": [
    "from sklearn.preprocessing import StandardScaler\n",
    "scaler = StandardScaler()\n",
    "\n",
    "X_train = scaler.fit_transform(X_train)\n",
    "X_test = scaler.transform(X_test)"
   ]
  },
  {
   "cell_type": "markdown",
   "id": "5213fb7e",
   "metadata": {},
   "source": [
    "#### TRAIN the model"
   ]
  },
  {
   "cell_type": "code",
   "execution_count": 48,
   "id": "e7f28b6d",
   "metadata": {},
   "outputs": [
    {
     "data": {
      "text/plain": [
       "DecisionTreeClassifier()"
      ]
     },
     "execution_count": 48,
     "metadata": {},
     "output_type": "execute_result"
    }
   ],
   "source": [
    "from sklearn.tree import DecisionTreeClassifier\n",
    "model = DecisionTreeClassifier() \n",
    "model.fit(X_train, y_train)"
   ]
  },
  {
   "cell_type": "markdown",
   "id": "1219c345",
   "metadata": {},
   "source": [
    "#### TEST the model"
   ]
  },
  {
   "cell_type": "code",
   "execution_count": 49,
   "id": "5e1fcd4d",
   "metadata": {},
   "outputs": [
    {
     "data": {
      "text/html": [
       "<div>\n",
       "<style scoped>\n",
       "    .dataframe tbody tr th:only-of-type {\n",
       "        vertical-align: middle;\n",
       "    }\n",
       "\n",
       "    .dataframe tbody tr th {\n",
       "        vertical-align: top;\n",
       "    }\n",
       "\n",
       "    .dataframe thead th {\n",
       "        text-align: right;\n",
       "    }\n",
       "</style>\n",
       "<table border=\"1\" class=\"dataframe\">\n",
       "  <thead>\n",
       "    <tr style=\"text-align: right;\">\n",
       "      <th></th>\n",
       "      <th>y_test</th>\n",
       "      <th>y_pred</th>\n",
       "    </tr>\n",
       "  </thead>\n",
       "  <tbody>\n",
       "    <tr>\n",
       "      <th>5</th>\n",
       "      <td>1</td>\n",
       "      <td>1</td>\n",
       "    </tr>\n",
       "    <tr>\n",
       "      <th>155</th>\n",
       "      <td>1</td>\n",
       "      <td>1</td>\n",
       "    </tr>\n",
       "    <tr>\n",
       "      <th>413</th>\n",
       "      <td>1</td>\n",
       "      <td>1</td>\n",
       "    </tr>\n",
       "    <tr>\n",
       "      <th>436</th>\n",
       "      <td>1</td>\n",
       "      <td>1</td>\n",
       "    </tr>\n",
       "    <tr>\n",
       "      <th>125</th>\n",
       "      <td>1</td>\n",
       "      <td>1</td>\n",
       "    </tr>\n",
       "  </tbody>\n",
       "</table>\n",
       "</div>"
      ],
      "text/plain": [
       "     y_test  y_pred\n",
       "5         1       1\n",
       "155       1       1\n",
       "413       1       1\n",
       "436       1       1\n",
       "125       1       1"
      ]
     },
     "execution_count": 49,
     "metadata": {},
     "output_type": "execute_result"
    }
   ],
   "source": [
    "y_pred = model.predict(X_test)\n",
    "new_df = pd.DataFrame({'y_test': y_test, 'y_pred': y_pred})\n",
    "new_df.sample(5)"
   ]
  },
  {
   "cell_type": "markdown",
   "id": "5935c032",
   "metadata": {},
   "source": [
    "#### EVAULATE the model"
   ]
  },
  {
   "cell_type": "code",
   "execution_count": 50,
   "id": "6cca5dc0",
   "metadata": {},
   "outputs": [
    {
     "name": "stdout",
     "output_type": "stream",
     "text": [
      "Accuracy Score: 0.906054279749478\n",
      "Precision Score: 0.9056765429287519\n",
      "Recall Score: 0.906054279749478\n",
      "F1 Score: 0.905826077155668\n"
     ]
    }
   ],
   "source": [
    "from sklearn.metrics import accuracy_score, confusion_matrix, classification_report, precision_score, recall_score, f1_score\n",
    "\n",
    "# model.coef_ -----#not available for Decision Tree\n",
    "\n",
    "print(f'Accuracy Score: {accuracy_score(y_test, y_pred)}')\n",
    "print(f\"Precision Score: {precision_score(y_test, y_pred, average='weighted')}\")\n",
    "print(f\"Recall Score: {recall_score(y_test, y_pred, average='weighted')}\")\n",
    "print(f\"F1 Score: {f1_score(y_test, y_pred, average='weighted')}\")\n",
    "\n",
    "#OK a very good model"
   ]
  },
  {
   "cell_type": "code",
   "execution_count": 51,
   "id": "71b352c8",
   "metadata": {},
   "outputs": [],
   "source": [
    "import warnings\n",
    "warnings.filterwarnings('ignore')"
   ]
  },
  {
   "cell_type": "code",
   "execution_count": 54,
   "id": "21a14888",
   "metadata": {},
   "outputs": [
    {
     "data": {
      "image/png": "[encoded data removed]",
      "text/plain": [
       "<Figure size 200x200 with 2 Axes>"
      ]
     },
     "metadata": {},
     "output_type": "display_data"
    }
   ],
   "source": [
    "from sklearn.metrics import plot_confusion_matrix\n",
    "plot_confusion_matrix(model, X_test, y_test).figure_.set_size_inches(2, 2)"
   ]
  },
  {
   "cell_type": "code",
   "execution_count": 55,
   "id": "20e7d88e",
   "metadata": {},
   "outputs": [
    {
     "data": {
      "text/plain": [
       "array([[299,  21],\n",
       "       [ 24, 135]], dtype=int64)"
      ]
     },
     "execution_count": 55,
     "metadata": {},
     "output_type": "execute_result"
    }
   ],
   "source": [
    "confusion_matrix(y_test, y_pred)"
   ]
  },
  {
   "cell_type": "markdown",
   "id": "beb81bac",
   "metadata": {},
   "source": [
    "#### What are the most important X features?"
   ]
  },
  {
   "cell_type": "code",
   "execution_count": 57,
   "id": "8687bef2",
   "metadata": {},
   "outputs": [
    {
     "data": {
      "text/html": [
       "<div>\n",
       "<style scoped>\n",
       "    .dataframe tbody tr th:only-of-type {\n",
       "        vertical-align: middle;\n",
       "    }\n",
       "\n",
       "    .dataframe tbody tr th {\n",
       "        vertical-align: top;\n",
       "    }\n",
       "\n",
       "    .dataframe thead th {\n",
       "        text-align: right;\n",
       "    }\n",
       "</style>\n",
       "<table border=\"1\" class=\"dataframe\">\n",
       "  <thead>\n",
       "    <tr style=\"text-align: right;\">\n",
       "      <th></th>\n",
       "      <th>Feature Importance</th>\n",
       "    </tr>\n",
       "  </thead>\n",
       "  <tbody>\n",
       "    <tr>\n",
       "      <th>Ethnicity_Other</th>\n",
       "      <td>0.000309</td>\n",
       "    </tr>\n",
       "    <tr>\n",
       "      <th>Ethnicity_Asian</th>\n",
       "      <td>0.001229</td>\n",
       "    </tr>\n",
       "    <tr>\n",
       "      <th>Ethnicity_Caucasian</th>\n",
       "      <td>0.001607</td>\n",
       "    </tr>\n",
       "    <tr>\n",
       "      <th>Gender_Male</th>\n",
       "      <td>0.008266</td>\n",
       "    </tr>\n",
       "    <tr>\n",
       "      <th>Absences</th>\n",
       "      <td>0.022380</td>\n",
       "    </tr>\n",
       "    <tr>\n",
       "      <th>StudyTimeWeekly</th>\n",
       "      <td>0.090039</td>\n",
       "    </tr>\n",
       "    <tr>\n",
       "      <th>GPA</th>\n",
       "      <td>0.876169</td>\n",
       "    </tr>\n",
       "  </tbody>\n",
       "</table>\n",
       "</div>"
      ],
      "text/plain": [
       "                     Feature Importance\n",
       "Ethnicity_Other                0.000309\n",
       "Ethnicity_Asian                0.001229\n",
       "Ethnicity_Caucasian            0.001607\n",
       "Gender_Male                    0.008266\n",
       "Absences                       0.022380\n",
       "StudyTimeWeekly                0.090039\n",
       "GPA                            0.876169"
      ]
     },
     "execution_count": 57,
     "metadata": {},
     "output_type": "execute_result"
    }
   ],
   "source": [
    "X = df.drop('Grade_Pass', axis=1)\n",
    "\n",
    "pd.DataFrame(index=X.columns, data=model.feature_importances_, \n",
    "             columns=['Feature Importance']).sort_values('Feature Importance')\n",
    "#GPA is by far the most important feature"
   ]
  },
  {
   "cell_type": "markdown",
   "id": "6dc571f3",
   "metadata": {},
   "source": [
    "#### Visualize the model"
   ]
  },
  {
   "cell_type": "code",
   "execution_count": 58,
   "id": "0b774147",
   "metadata": {},
   "outputs": [
    {
     "data": {
      "image/png": "[encoded data removed]",
      "text/plain": [
       "<Figure size 800x400 with 1 Axes>"
      ]
     },
     "metadata": {},
     "output_type": "display_data"
    }
   ],
   "source": [
    "plt.figure(figsize=(8, 4))\n",
    "\n",
    "sns.kdeplot(y_test, label='Actual', shade=True)\n",
    "sns.kdeplot(y_pred, label='Predicted', shade=True)\n",
    "\n",
    "plt.title('Actual and Predicted values')\n",
    "plt.xlabel('Class')\n",
    "plt.ylabel('Density/Frequency')\n",
    "plt.legend()\n",
    "plt.show()\n",
    "\n",
    "# y_test & y_pred mostly overlap, but definitely noticeable difference, thus why 61% accuracy"
   ]
  },
  {
   "cell_type": "code",
   "execution_count": 62,
   "id": "3f5dbfaf",
   "metadata": {},
   "outputs": [
    {
     "data": {
      "image/png": "[encoded data removed]",
      "text/plain": [
       "<Figure size 600x200 with 1 Axes>"
      ]
     },
     "metadata": {},
     "output_type": "display_data"
    }
   ],
   "source": [
    "# Combine y_test and y_pred into a single DataFrame\n",
    "comparison_df = pd.DataFrame({'Actual': y_test, 'Predicted': y_pred})\n",
    "\n",
    "# Plot the counts of each class\n",
    "plt.figure(figsize=(6, 2))\n",
    "plot = sns.countplot(y='variable', hue='value', data=pd.melt(comparison_df))\n",
    "\n",
    "# Add counts on top of the bars\n",
    "for p in plot.patches:\n",
    "    plot.annotate(format(p.get_width(), '.0f'), \n",
    "                  (p.get_width(), p.get_y() + p.get_height() / 2.), \n",
    "                  ha = 'center', va = 'center', \n",
    "                  xytext = (9, 0), \n",
    "                  textcoords = 'offset points')\n",
    "\n",
    "plt.legend(title='Value', bbox_to_anchor=(1.05, 1), loc='upper left')\n",
    "plt.grid(True, linestyle='--', alpha=0.7)\n",
    "plt.title('Count of Actual and Predicted Classes')\n",
    "plt.ylabel('Class')\n",
    "plt.xlabel('Count')\n",
    "plt.show()"
   ]
  },
  {
   "cell_type": "markdown",
   "id": "3619bdc5",
   "metadata": {},
   "source": [
    "#### Predict new student"
   ]
  },
  {
   "cell_type": "code",
   "execution_count": 64,
   "id": "77f745d7",
   "metadata": {},
   "outputs": [
    {
     "name": "stdout",
     "output_type": "stream",
     "text": [
      "[1]\n"
     ]
    }
   ],
   "source": [
    "print(model.predict(scaler.transform([[14, 2, 3.4, 0, 0, 1, 0]])))\n",
    "# if a student spends 14 hours Studying Weekly, it is Absence 2x, has GPA of 3.4, is female, caucasian then the student will Pass"
   ]
  },
  {
   "cell_type": "code",
   "execution_count": 66,
   "id": "1275cdf3",
   "metadata": {},
   "outputs": [
    {
     "name": "stdout",
     "output_type": "stream",
     "text": [
      "[0]\n"
     ]
    }
   ],
   "source": [
    "print(model.predict(scaler.transform([[14, 2, 1.0, 0, 0, 1, 0]])))\n",
    "# if a student spends 14 hours Studying Weekly, it is Absence 2x, has GPA of 1.0, is female, caucasian then the student will Fail"
   ]
  },
  {
   "cell_type": "markdown",
   "id": "1345502b",
   "metadata": {},
   "source": [
    "- Age - The age of the students ranges from 15 to 18 years.\n",
    "- Gender - Gender of the students, where 0 represents Male and 1 represents Female.\n",
    "- Ethnicity - The ethnicity of the students: 0: Caucasian, 1: African American, 2: Asian, 3: Other\n",
    "- ParentalEducation - 0: None, 1: High School, 2: Some College, 3: Bachelor's, 4: Higher, \n",
    "- StudyTimeWeekly - Weekly study time in hours, ranging from 0 to 20.\n",
    "- Absences - Number of absences during the school year, ranging from 0 to 30.\n",
    "- Tutoring - Tutoring status, where 0 indicates No and 1 indicates Yes.\n",
    "- ParentalSupport - 0: None, 1: Low, 2: Moderate, 3: High, 4: Very High\n",
    "- Extracurricular - Participation in extracurricular activities, where 0 indicates No and 1 indicates Yes.\n",
    "- Sports - Participation in sports, where 0 indicates No and 1 indicates Yes.\n",
    "- Music - Participation in music activities, where 0 indicates No and 1 indicates Yes.\n",
    "- Volunteering - Participation in volunteering, where 0 indicates No and 1 indicates Yes.\n",
    "- GPA - Grade Point Average on a scale from 2.0 to 4.0, influenced by study habits, parental involvement, and extracurricular activities.\n",
    "- Target Variable Grade Class - 0: 'A' (GPA >= 3.5), 1: 'B' (3.0 <= GPA < 3.5), 2: 'C' (2.5 <= GPA < 3.0), 3: 'D' (2.0 <= GPA < 2.5), 4: 'F' (GPA < 2.0)"
   ]
  },
  {
   "cell_type": "code",
   "execution_count": 63,
   "id": "15383b29",
   "metadata": {},
   "outputs": [
    {
     "data": {
      "text/plain": [
       "Index(['StudyTimeWeekly', 'Absences', 'GPA', 'Gender_Male', 'Ethnicity_Asian',\n",
       "       'Ethnicity_Caucasian', 'Ethnicity_Other'],\n",
       "      dtype='object')"
      ]
     },
     "execution_count": 63,
     "metadata": {},
     "output_type": "execute_result"
    }
   ],
   "source": [
    "X.columns"
   ]
  },
  {
   "cell_type": "code",
   "execution_count": null,
   "id": "f2ebb976",
   "metadata": {},
   "outputs": [],
   "source": []
  },
  {
   "cell_type": "code",
   "execution_count": null,
   "id": "cb649139",
   "metadata": {},
   "outputs": [],
   "source": []
  },
  {
   "cell_type": "code",
   "execution_count": null,
   "id": "5555fe36",
   "metadata": {},
   "outputs": [],
   "source": []
  }
 ],
 "metadata": {
  "kernelspec": {
   "display_name": "Python 3 (ipykernel)",
   "language": "python",
   "name": "python3"
  },
  "language_info": {
   "codemirror_mode": {
    "name": "ipython",
    "version": 3
   },
   "file_extension": ".py",
   "mimetype": "text/x-python",
   "name": "python",
   "nbconvert_exporter": "python",
   "pygments_lexer": "ipython3",
   "version": "3.9.18"
  }
 },
 "nbformat": 4,
 "nbformat_minor": 5
}
