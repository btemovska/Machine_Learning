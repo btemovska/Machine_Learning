{
 "cells": [
  {
   "cell_type": "markdown",
   "id": "ed1af700",
   "metadata": {},
   "source": [
    "### Polynomial Linear Regression"
   ]
  },
  {
   "cell_type": "markdown",
   "id": "f3e9c2d0",
   "metadata": {},
   "source": [
    "#### Import library"
   ]
  },
  {
   "cell_type": "code",
   "execution_count": 9,
   "id": "431de2ae",
   "metadata": {},
   "outputs": [],
   "source": [
    "import numpy as np\n",
    "import pandas as pd\n",
    "import matplotlib.pyplot as plt\n",
    "import seaborn as sns"
   ]
  },
  {
   "cell_type": "code",
   "execution_count": 2,
   "id": "e4265853",
   "metadata": {},
   "outputs": [
    {
     "data": {
      "text/html": [
       "<style>.container {width:100% !important; }<style>"
      ],
      "text/plain": [
       "<IPython.core.display.HTML object>"
      ]
     },
     "metadata": {},
     "output_type": "display_data"
    }
   ],
   "source": [
    "from IPython.core.display import display, HTML\n",
    "display(HTML(\"<style>.container {width:100% !important; }<style>\"))"
   ]
  },
  {
   "cell_type": "markdown",
   "id": "e8c60379",
   "metadata": {},
   "source": [
    "#### Import dataset"
   ]
  },
  {
   "cell_type": "code",
   "execution_count": 39,
   "id": "8c70bbef",
   "metadata": {
    "scrolled": true
   },
   "outputs": [
    {
     "data": {
      "text/html": [
       "<div>\n",
       "<style scoped>\n",
       "    .dataframe tbody tr th:only-of-type {\n",
       "        vertical-align: middle;\n",
       "    }\n",
       "\n",
       "    .dataframe tbody tr th {\n",
       "        vertical-align: top;\n",
       "    }\n",
       "\n",
       "    .dataframe thead th {\n",
       "        text-align: right;\n",
       "    }\n",
       "</style>\n",
       "<table border=\"1\" class=\"dataframe\">\n",
       "  <thead>\n",
       "    <tr style=\"text-align: right;\">\n",
       "      <th></th>\n",
       "      <th>TV</th>\n",
       "      <th>radio</th>\n",
       "      <th>newspaper</th>\n",
       "      <th>sales</th>\n",
       "    </tr>\n",
       "  </thead>\n",
       "  <tbody>\n",
       "    <tr>\n",
       "      <th>0</th>\n",
       "      <td>230.1</td>\n",
       "      <td>37.8</td>\n",
       "      <td>69.2</td>\n",
       "      <td>22.1</td>\n",
       "    </tr>\n",
       "    <tr>\n",
       "      <th>1</th>\n",
       "      <td>44.5</td>\n",
       "      <td>39.3</td>\n",
       "      <td>45.1</td>\n",
       "      <td>10.4</td>\n",
       "    </tr>\n",
       "    <tr>\n",
       "      <th>2</th>\n",
       "      <td>17.2</td>\n",
       "      <td>45.9</td>\n",
       "      <td>69.3</td>\n",
       "      <td>9.3</td>\n",
       "    </tr>\n",
       "    <tr>\n",
       "      <th>3</th>\n",
       "      <td>151.5</td>\n",
       "      <td>41.3</td>\n",
       "      <td>58.5</td>\n",
       "      <td>18.5</td>\n",
       "    </tr>\n",
       "    <tr>\n",
       "      <th>4</th>\n",
       "      <td>180.8</td>\n",
       "      <td>10.8</td>\n",
       "      <td>58.4</td>\n",
       "      <td>12.9</td>\n",
       "    </tr>\n",
       "  </tbody>\n",
       "</table>\n",
       "</div>"
      ],
      "text/plain": [
       "      TV  radio  newspaper  sales\n",
       "0  230.1   37.8       69.2   22.1\n",
       "1   44.5   39.3       45.1   10.4\n",
       "2   17.2   45.9       69.3    9.3\n",
       "3  151.5   41.3       58.5   18.5\n",
       "4  180.8   10.8       58.4   12.9"
      ]
     },
     "execution_count": 39,
     "metadata": {},
     "output_type": "execute_result"
    }
   ],
   "source": [
    "df = pd.read_csv('Advertising.csv')\n",
    "df.head()"
   ]
  },
  {
   "cell_type": "markdown",
   "id": "3a2d8fa8",
   "metadata": {},
   "source": [
    "#### Separate X features & y labels"
   ]
  },
  {
   "cell_type": "code",
   "execution_count": 41,
   "id": "9467c067",
   "metadata": {},
   "outputs": [],
   "source": [
    "X = df.drop('sales', axis=1)\n",
    "y = df['sales']"
   ]
  },
  {
   "cell_type": "markdown",
   "id": "42854c32",
   "metadata": {},
   "source": [
    "#### Polynomial Features"
   ]
  },
  {
   "cell_type": "code",
   "execution_count": 52,
   "id": "bb294039",
   "metadata": {},
   "outputs": [
    {
     "data": {
      "text/plain": [
       "((200, 9), (200, 3))"
      ]
     },
     "execution_count": 52,
     "metadata": {},
     "output_type": "execute_result"
    }
   ],
   "source": [
    "#Feature convertr, no need to split into train/test just yet\n",
    "from sklearn.preprocessing import PolynomialFeatures\n",
    "polynomial_converter = PolynomialFeatures(degree=2, include_bias=False)\n",
    "\n",
    "#polynomial_converter.fit(X)  #step 1 - prepare for transformation\n",
    "#poly_featured = polynomial_converter.transform(X) #step 3 - Transforms them into polynomial features based on what was learned during fit(X)\n",
    "\n",
    "poly_features = polynomial_converter.fit_transform(X) #OR you can do both fit and transform in one step\n",
    "\n",
    "poly_features.shape, X.shape"
   ]
  },
  {
   "cell_type": "code",
   "execution_count": 53,
   "id": "d7cbc731",
   "metadata": {
    "scrolled": true
   },
   "outputs": [
    {
     "data": {
      "text/html": [
       "<div>\n",
       "<style scoped>\n",
       "    .dataframe tbody tr th:only-of-type {\n",
       "        vertical-align: middle;\n",
       "    }\n",
       "\n",
       "    .dataframe tbody tr th {\n",
       "        vertical-align: top;\n",
       "    }\n",
       "\n",
       "    .dataframe thead th {\n",
       "        text-align: right;\n",
       "    }\n",
       "</style>\n",
       "<table border=\"1\" class=\"dataframe\">\n",
       "  <thead>\n",
       "    <tr style=\"text-align: right;\">\n",
       "      <th></th>\n",
       "      <th>Poly_Features</th>\n",
       "      <th>new_col</th>\n",
       "    </tr>\n",
       "  </thead>\n",
       "  <tbody>\n",
       "    <tr>\n",
       "      <th>0</th>\n",
       "      <td>230.10</td>\n",
       "      <td>TV</td>\n",
       "    </tr>\n",
       "    <tr>\n",
       "      <th>1</th>\n",
       "      <td>37.80</td>\n",
       "      <td>radio</td>\n",
       "    </tr>\n",
       "    <tr>\n",
       "      <th>2</th>\n",
       "      <td>69.20</td>\n",
       "      <td>newspaper</td>\n",
       "    </tr>\n",
       "    <tr>\n",
       "      <th>3</th>\n",
       "      <td>52946.01</td>\n",
       "      <td>TV_squared</td>\n",
       "    </tr>\n",
       "    <tr>\n",
       "      <th>4</th>\n",
       "      <td>8697.78</td>\n",
       "      <td>TV*radio</td>\n",
       "    </tr>\n",
       "    <tr>\n",
       "      <th>5</th>\n",
       "      <td>15922.92</td>\n",
       "      <td>TV*newspaper</td>\n",
       "    </tr>\n",
       "    <tr>\n",
       "      <th>6</th>\n",
       "      <td>1428.84</td>\n",
       "      <td>radio_squared</td>\n",
       "    </tr>\n",
       "    <tr>\n",
       "      <th>7</th>\n",
       "      <td>2615.76</td>\n",
       "      <td>radio*newspaper</td>\n",
       "    </tr>\n",
       "    <tr>\n",
       "      <th>8</th>\n",
       "      <td>4788.64</td>\n",
       "      <td>newspaper_squared</td>\n",
       "    </tr>\n",
       "  </tbody>\n",
       "</table>\n",
       "</div>"
      ],
      "text/plain": [
       "   Poly_Features            new_col\n",
       "0         230.10                 TV\n",
       "1          37.80              radio\n",
       "2          69.20          newspaper\n",
       "3       52946.01         TV_squared\n",
       "4        8697.78           TV*radio\n",
       "5       15922.92       TV*newspaper\n",
       "6        1428.84      radio_squared\n",
       "7        2615.76    radio*newspaper\n",
       "8        4788.64  newspaper_squared"
      ]
     },
     "execution_count": 53,
     "metadata": {},
     "output_type": "execute_result"
    }
   ],
   "source": [
    "df2 = pd.DataFrame(data=poly_featured[0], columns=['Poly_Features'])\n",
    "df2['new_col'] = ['TV', 'radio', 'newspaper', 'TV_squared', 'TV*radio', 'TV*newspaper', 'radio_squared', 'radio*newspaper', 'newspaper_squared']\n",
    "#goint from 3 features to 9 (3 are original, 3 are squared and 3 are multiplication of one another), thus model will be trained on 9 features\n",
    "df2"
   ]
  },
  {
   "cell_type": "markdown",
   "id": "98812824",
   "metadata": {},
   "source": [
    "#### Split dataset into Training and Test"
   ]
  },
  {
   "cell_type": "code",
   "execution_count": 54,
   "id": "9cde349f",
   "metadata": {},
   "outputs": [],
   "source": [
    "from sklearn.model_selection import train_test_split\n",
    "X_train, X_test, y_train, y_test = train_test_split(poly_features, y, test_size = 0.2, random_state = 0)\n",
    "#note poly_feature now has 9 features"
   ]
  },
  {
   "cell_type": "markdown",
   "id": "42286521",
   "metadata": {},
   "source": [
    "#### Train the model on Linear Regression"
   ]
  },
  {
   "cell_type": "code",
   "execution_count": 55,
   "id": "d8c5ccbd",
   "metadata": {},
   "outputs": [
    {
     "data": {
      "text/plain": [
       "LinearRegression()"
      ]
     },
     "execution_count": 55,
     "metadata": {},
     "output_type": "execute_result"
    }
   ],
   "source": [
    "from sklearn.linear_model import LinearRegression\n",
    "model = LinearRegression()\n",
    "model.fit(X_train, y_train)"
   ]
  },
  {
   "cell_type": "markdown",
   "id": "d43cf334",
   "metadata": {},
   "source": [
    "#### Validate the model"
   ]
  },
  {
   "cell_type": "code",
   "execution_count": 59,
   "id": "31427ec1",
   "metadata": {},
   "outputs": [
    {
     "data": {
      "text/html": [
       "<div>\n",
       "<style scoped>\n",
       "    .dataframe tbody tr th:only-of-type {\n",
       "        vertical-align: middle;\n",
       "    }\n",
       "\n",
       "    .dataframe tbody tr th {\n",
       "        vertical-align: top;\n",
       "    }\n",
       "\n",
       "    .dataframe thead th {\n",
       "        text-align: right;\n",
       "    }\n",
       "</style>\n",
       "<table border=\"1\" class=\"dataframe\">\n",
       "  <thead>\n",
       "    <tr style=\"text-align: right;\">\n",
       "      <th></th>\n",
       "      <th>y_pred</th>\n",
       "      <th>y_test</th>\n",
       "    </tr>\n",
       "  </thead>\n",
       "  <tbody>\n",
       "    <tr>\n",
       "      <th>18</th>\n",
       "      <td>10.3</td>\n",
       "      <td>11.3</td>\n",
       "    </tr>\n",
       "    <tr>\n",
       "      <th>170</th>\n",
       "      <td>8.4</td>\n",
       "      <td>8.4</td>\n",
       "    </tr>\n",
       "    <tr>\n",
       "      <th>107</th>\n",
       "      <td>8.9</td>\n",
       "      <td>8.7</td>\n",
       "    </tr>\n",
       "    <tr>\n",
       "      <th>98</th>\n",
       "      <td>25.2</td>\n",
       "      <td>25.4</td>\n",
       "    </tr>\n",
       "    <tr>\n",
       "      <th>177</th>\n",
       "      <td>12.3</td>\n",
       "      <td>11.7</td>\n",
       "    </tr>\n",
       "  </tbody>\n",
       "</table>\n",
       "</div>"
      ],
      "text/plain": [
       "     y_pred  y_test\n",
       "18     10.3    11.3\n",
       "170     8.4     8.4\n",
       "107     8.9     8.7\n",
       "98     25.2    25.4\n",
       "177    12.3    11.7"
      ]
     },
     "execution_count": 59,
     "metadata": {},
     "output_type": "execute_result"
    }
   ],
   "source": [
    "test_predictions = model.predict(X_test)\n",
    "\n",
    "new_df = pd.DataFrame({'y_pred':test_predictions.round(1), 'y_test': y_test})\n",
    "new_df.head()"
   ]
  },
  {
   "cell_type": "markdown",
   "id": "e65dcd3b",
   "metadata": {},
   "source": [
    "#### Evaluate"
   ]
  },
  {
   "cell_type": "code",
   "execution_count": 70,
   "id": "fa227f5d",
   "metadata": {},
   "outputs": [
    {
     "name": "stdout",
     "output_type": "stream",
     "text": [
      "Mean Squared Error: 0.90325\n",
      "Root Mean Squared Error: 0.9503947\n",
      "Mean Absolute Error: 0.90325\n",
      "R2: 0.9712976\n",
      "R2 adjusted: 0.9626868\n"
     ]
    }
   ],
   "source": [
    "from sklearn.metrics import r2_score, mean_squared_error, mean_absolute_error\n",
    "\n",
    "mse = mean_squared_error(new_df['y_test'], new_df['y_pred'] )\n",
    "rmse = np.sqrt(mse)\n",
    "mae = mean_absolute_error(new_df['y_test'], new_df['y_pred'] )\n",
    "\n",
    "r2 = r2_score(new_df['y_test'], new_df['y_pred'])\n",
    "\n",
    "n=len(new_df['y_test'])\n",
    "k = X_test.shape[1]\n",
    "r2_adj = 1-(1-r2)*(n-1)/(n-k-1)\n",
    "\n",
    "print(f'Mean Squared Error: {mse.round(7)}')\n",
    "print(f'Root Mean Squared Error: {rmse.round(7)}')\n",
    "print(f'Mean Absolute Error: {mse.round(7)}')\n",
    "print(f'R2: {r2.round(7)}')\n",
    "print(f'R2 adjusted: {r2_adj.round(7)}')"
   ]
  },
  {
   "cell_type": "markdown",
   "id": "120e07d1",
   "metadata": {},
   "source": [
    "<span style=\"text-decoration: underline;\">On the Linear Regression we got:</span>\n",
    "\n",
    "\n",
    "- Mean Squared Error: 4.41375\n",
    "- Root Mean Squared Error: 2.10089\n",
    "\n",
    "\n",
    "- R-squared: 0.8597449\n",
    "- R-squared adjusted: 0.8575981\n",
    "\n",
    "Well, now comparing the two, the Polynomial model looks much better. Why's that? Plot below"
   ]
  },
  {
   "cell_type": "code",
   "execution_count": 73,
   "id": "2e97964a",
   "metadata": {},
   "outputs": [
    {
     "data": {
      "image/png": "[encoded data removed]",
      "text/plain": [
       "<Figure size 500x300 with 1 Axes>"
      ]
     },
     "metadata": {},
     "output_type": "display_data"
    }
   ],
   "source": [
    "plt.figure(figsize=(5, 3))\n",
    "plt.scatter(df['TV'], df['sales'], color='red', label='TV vs Sales')# TV vs. Sales\n",
    "plt.scatter(df['newspaper'], df['sales'], color='green', label='Newspaper vs Sales')# Newspaper vs. Sales\n",
    "plt.scatter(df['radio'], df['sales'], color='blue', label='Radio vs Sales')# Radio vs. Sales\n",
    "\n",
    "plt.xlabel('Spend')\n",
    "plt.ylabel('Sales')\n",
    "\n",
    "plt.legend(bbox_to_anchor=(1.05, 1), loc='upper left')\n",
    "plt.show()"
   ]
  },
  {
   "cell_type": "markdown",
   "id": "20507b17",
   "metadata": {},
   "source": [
    "#### How do we decide which degree is best (power of 2, or 3 or 4?)"
   ]
  },
  {
   "cell_type": "code",
   "execution_count": 94,
   "id": "0aaf2231",
   "metadata": {},
   "outputs": [
    {
     "data": {
      "image/png": "[encoded data removed]",
      "text/plain": [
       "<Figure size 600x300 with 1 Axes>"
      ]
     },
     "metadata": {},
     "output_type": "display_data"
    }
   ],
   "source": [
    "train_rmse_error = []\n",
    "test_rmse_error = []\n",
    "\n",
    "for degree in range(1, 10):\n",
    "    poly_converter = PolynomialFeatures(degree=degree, include_bias=False)  #Create PolyFeatures\n",
    "    poly_features = poly_converter.fit_transform(X)\n",
    "    \n",
    "    X_train, X_test, y_train, y_test = train_test_split(poly_features, y, test_size = 0.2, random_state = 0) # split poly features into train/test\n",
    "    \n",
    "    model = LinearRegression()\n",
    "    model.fit(X_train, y_train)# fit model on training data\n",
    "    \n",
    "    train_pred = model.predict(X_train)\n",
    "    test_pred = model.predict(X_test)\n",
    "    \n",
    "    train_rmse = np.sqrt(mean_squared_error(y_train, train_pred))\n",
    "    test_rmse = np.sqrt(mean_squared_error(y_test, test_pred))\n",
    "    train_rmse_error.append(train_rmse)# store/save the rmse for both training and test set\n",
    "    test_rmse_error.append(test_rmse)  # store/save the rmse for both training and test set\n",
    "\n",
    "\n",
    "# plot the results (error vs poly order)\n",
    "plt.figure(figsize=(6, 3))\n",
    "plt.plot(range(1,6), train_rmse_error[:5], label='Train RMSE')\n",
    "plt.plot(range(1,6), test_rmse_error[:5], label='Test RMSE')\n",
    "\n",
    "plt.ylabel('RMSE')\n",
    "plt.xlabel('Degree')\n",
    "plt.legend(bbox_to_anchor=(1.05, 1), loc='upper left')\n",
    "plt.show()"
   ]
  },
  {
   "cell_type": "markdown",
   "id": "91d1415f",
   "metadata": {},
   "source": [
    "It looks like degrees between 2 and 4 are best. But it looks like 4 is not necessary, thus best it is between 2 and 3 degree. "
   ]
  },
  {
   "cell_type": "code",
   "execution_count": null,
   "id": "708c3c6f",
   "metadata": {},
   "outputs": [],
   "source": []
  },
  {
   "cell_type": "markdown",
   "id": "d7f31620",
   "metadata": {},
   "source": [
    "#### Predict new results"
   ]
  },
  {
   "cell_type": "code",
   "execution_count": 100,
   "id": "4667b7f7",
   "metadata": {},
   "outputs": [
    {
     "data": {
      "text/plain": [
       "array([17.41605053])"
      ]
     },
     "execution_count": 100,
     "metadata": {},
     "output_type": "execute_result"
    }
   ],
   "source": [
    "model.predict(poly_converter.fit_transform([[160.0, 30.0, 20.0]]))"
   ]
  },
  {
   "cell_type": "markdown",
   "id": "1cb63d5c",
   "metadata": {},
   "source": [
    "So if we spend 160 on TV, 30 on radio, and 20 on newspaper, it will generate 17 dollars. Well thats better than Linear Regression of 15.9 dollars."
   ]
  },
  {
   "cell_type": "code",
   "execution_count": null,
   "id": "6d822cf4",
   "metadata": {},
   "outputs": [],
   "source": []
  },
  {
   "cell_type": "code",
   "execution_count": null,
   "id": "32ede49e",
   "metadata": {},
   "outputs": [],
   "source": []
  },
  {
   "cell_type": "code",
   "execution_count": null,
   "id": "1c919003",
   "metadata": {},
   "outputs": [],
   "source": []
  }
 ],
 "metadata": {
  "kernelspec": {
   "display_name": "Python 3 (ipykernel)",
   "language": "python",
   "name": "python3"
  },
  "language_info": {
   "codemirror_mode": {
    "name": "ipython",
    "version": 3
   },
   "file_extension": ".py",
   "mimetype": "text/x-python",
   "name": "python",
   "nbconvert_exporter": "python",
   "pygments_lexer": "ipython3",
   "version": "3.9.18"
  }
 },
 "nbformat": 4,
 "nbformat_minor": 5
}
